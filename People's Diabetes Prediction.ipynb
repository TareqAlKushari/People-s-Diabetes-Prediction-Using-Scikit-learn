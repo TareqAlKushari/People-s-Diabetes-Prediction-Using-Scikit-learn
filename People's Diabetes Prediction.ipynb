{
 "cells": [
  {
   "cell_type": "markdown",
   "id": "d3a30ab5-15d3-479f-bfbe-d9dadb113ec0",
   "metadata": {},
   "source": [
    "# Import the libraries"
   ]
  },
  {
   "cell_type": "code",
   "execution_count": 1,
   "id": "65a3f3d0-f45d-49ba-8936-f2d00f6c4731",
   "metadata": {},
   "outputs": [],
   "source": [
    "import pandas as pd # For data manipulation and analysis\n",
    "import numpy as np # For numerical computing\n",
    "import seaborn as sns # For data visualization\n",
    "import matplotlib.pyplot as plt # For plotting graphs\n",
    "import pickle # For saving and loading objects\n",
    "from scipy import stats # For statistical functions\n",
    "from sklearn.model_selection import train_test_split # For splitting the data into training and testing sets\n",
    "from sklearn.impute import SimpleImputer # For handling missing values\n",
    "from sklearn.preprocessing import OrdinalEncoder # For encoding categorical variables as ordinal numbers\n",
    "from sklearn.preprocessing import OneHotEncoder # For encoding categorical variables as one-hot vectors\n",
    "from sklearn.pipeline import Pipeline # For creating pipelines of transformations\n",
    "from sklearn.preprocessing import StandardScaler # For scaling numerical variables\n",
    "from sklearn.compose import ColumnTransformer # For applying different transformations to different columns\n",
    "from sklearn.linear_model import LinearRegression \n",
    "from sklearn.metrics import mean_squared_error # For measuring the mean squared error of the model\n",
    "from sklearn.tree import DecisionTreeRegressor\n",
    "from sklearn.model_selection import RandomizedSearchCV # For finding the best hyperparameters of the model\n",
    "from sklearn.model_selection import GridSearchCV\n",
    "from sklearn.ensemble import RandomForestRegressor # For building a random forest regression model\n",
    "from sklearn.model_selection import cross_val_score"
   ]
  },
  {
   "cell_type": "markdown",
   "id": "bcc9f19e-c750-4add-84b5-9ada6fd61f2d",
   "metadata": {},
   "source": [
    "# Read the data"
   ]
  },
  {
   "cell_type": "code",
   "execution_count": 2,
   "id": "1aaaf5ee-dd3e-4fb1-acbe-0c7e261c8c0a",
   "metadata": {},
   "outputs": [],
   "source": [
    "daiabet = pd.read_csv(\"daiabet.csv\")"
   ]
  },
  {
   "cell_type": "code",
   "execution_count": 3,
   "id": "19d43fc1-20b1-492a-9364-28ea01e3d9d5",
   "metadata": {},
   "outputs": [
    {
     "data": {
      "text/html": [
       "<div>\n",
       "<style scoped>\n",
       "    .dataframe tbody tr th:only-of-type {\n",
       "        vertical-align: middle;\n",
       "    }\n",
       "\n",
       "    .dataframe tbody tr th {\n",
       "        vertical-align: top;\n",
       "    }\n",
       "\n",
       "    .dataframe thead th {\n",
       "        text-align: right;\n",
       "    }\n",
       "</style>\n",
       "<table border=\"1\" class=\"dataframe\">\n",
       "  <thead>\n",
       "    <tr style=\"text-align: right;\">\n",
       "      <th></th>\n",
       "      <th>Sex</th>\n",
       "      <th>age</th>\n",
       "      <th>hight</th>\n",
       "      <th>weight</th>\n",
       "      <th>blood sugar</th>\n",
       "      <th>blood pressure</th>\n",
       "      <th>type of diabetes</th>\n",
       "      <th>Complications of diabetes</th>\n",
       "      <th>Family history</th>\n",
       "    </tr>\n",
       "  </thead>\n",
       "  <tbody>\n",
       "    <tr>\n",
       "      <th>0</th>\n",
       "      <td>male</td>\n",
       "      <td>64</td>\n",
       "      <td>160</td>\n",
       "      <td>90</td>\n",
       "      <td>196</td>\n",
       "      <td>90.6</td>\n",
       "      <td>2</td>\n",
       "      <td>eye</td>\n",
       "      <td>1</td>\n",
       "    </tr>\n",
       "    <tr>\n",
       "      <th>1</th>\n",
       "      <td>male</td>\n",
       "      <td>64</td>\n",
       "      <td>175</td>\n",
       "      <td>65</td>\n",
       "      <td>128</td>\n",
       "      <td>110.6</td>\n",
       "      <td>2</td>\n",
       "      <td>Nervous</td>\n",
       "      <td>1</td>\n",
       "    </tr>\n",
       "    <tr>\n",
       "      <th>2</th>\n",
       "      <td>male</td>\n",
       "      <td>55</td>\n",
       "      <td>168</td>\n",
       "      <td>77</td>\n",
       "      <td>211</td>\n",
       "      <td>100.6</td>\n",
       "      <td>1</td>\n",
       "      <td>eye</td>\n",
       "      <td>1</td>\n",
       "    </tr>\n",
       "    <tr>\n",
       "      <th>3</th>\n",
       "      <td>female</td>\n",
       "      <td>54</td>\n",
       "      <td>155</td>\n",
       "      <td>84</td>\n",
       "      <td>154</td>\n",
       "      <td>110.5</td>\n",
       "      <td>2</td>\n",
       "      <td>eye</td>\n",
       "      <td>1</td>\n",
       "    </tr>\n",
       "    <tr>\n",
       "      <th>4</th>\n",
       "      <td>male</td>\n",
       "      <td>41</td>\n",
       "      <td>173</td>\n",
       "      <td>66</td>\n",
       "      <td>192</td>\n",
       "      <td>90.6</td>\n",
       "      <td>2</td>\n",
       "      <td>Nervous</td>\n",
       "      <td>2</td>\n",
       "    </tr>\n",
       "    <tr>\n",
       "      <th>5</th>\n",
       "      <td>female</td>\n",
       "      <td>43</td>\n",
       "      <td>158</td>\n",
       "      <td>79</td>\n",
       "      <td>178</td>\n",
       "      <td>120.6</td>\n",
       "      <td>2</td>\n",
       "      <td>Nervous Gastrointestinal and skin</td>\n",
       "      <td>1</td>\n",
       "    </tr>\n",
       "    <tr>\n",
       "      <th>6</th>\n",
       "      <td>female</td>\n",
       "      <td>71</td>\n",
       "      <td>155</td>\n",
       "      <td>73</td>\n",
       "      <td>250</td>\n",
       "      <td>130.8</td>\n",
       "      <td>1</td>\n",
       "      <td>eye</td>\n",
       "      <td>1</td>\n",
       "    </tr>\n",
       "    <tr>\n",
       "      <th>7</th>\n",
       "      <td>female</td>\n",
       "      <td>54</td>\n",
       "      <td>167</td>\n",
       "      <td>90</td>\n",
       "      <td>170</td>\n",
       "      <td>120.6</td>\n",
       "      <td>2</td>\n",
       "      <td>kidney</td>\n",
       "      <td>1</td>\n",
       "    </tr>\n",
       "    <tr>\n",
       "      <th>8</th>\n",
       "      <td>male</td>\n",
       "      <td>59</td>\n",
       "      <td>170</td>\n",
       "      <td>50</td>\n",
       "      <td>200</td>\n",
       "      <td>100.5</td>\n",
       "      <td>1</td>\n",
       "      <td>kidney</td>\n",
       "      <td>1</td>\n",
       "    </tr>\n",
       "    <tr>\n",
       "      <th>9</th>\n",
       "      <td>female</td>\n",
       "      <td>49</td>\n",
       "      <td>160</td>\n",
       "      <td>54</td>\n",
       "      <td>171</td>\n",
       "      <td>110.6</td>\n",
       "      <td>1</td>\n",
       "      <td>Nervous</td>\n",
       "      <td>2</td>\n",
       "    </tr>\n",
       "  </tbody>\n",
       "</table>\n",
       "</div>"
      ],
      "text/plain": [
       "      Sex  age  hight  weight  blood sugar  blood pressure  type of diabetes  \\\n",
       "0    male   64    160      90          196            90.6                 2   \n",
       "1    male   64    175      65          128           110.6                 2   \n",
       "2    male   55    168      77          211           100.6                 1   \n",
       "3  female   54    155      84          154           110.5                 2   \n",
       "4    male   41    173      66          192            90.6                 2   \n",
       "5  female   43    158      79          178           120.6                 2   \n",
       "6  female   71    155      73          250           130.8                 1   \n",
       "7  female   54    167      90          170           120.6                 2   \n",
       "8    male   59    170      50          200           100.5                 1   \n",
       "9  female   49    160      54          171           110.6                 1   \n",
       "\n",
       "           Complications of diabetes  Family history  \n",
       "0                                eye               1  \n",
       "1                            Nervous               1  \n",
       "2                                eye               1  \n",
       "3                                eye               1  \n",
       "4                            Nervous               2  \n",
       "5  Nervous Gastrointestinal and skin               1  \n",
       "6                                eye               1  \n",
       "7                             kidney               1  \n",
       "8                             kidney               1  \n",
       "9                            Nervous               2  "
      ]
     },
     "execution_count": 3,
     "metadata": {},
     "output_type": "execute_result"
    }
   ],
   "source": [
    "daiabet.head(10)"
   ]
  },
  {
   "cell_type": "markdown",
   "id": "2b7bb9e6-6b22-4f20-b319-884b31058527",
   "metadata": {},
   "source": [
    "# Take a Quick Look at the Data Structure"
   ]
  },
  {
   "cell_type": "code",
   "execution_count": 4,
   "id": "134cc871-77dd-48dd-b1bc-1558f2cdabbd",
   "metadata": {},
   "outputs": [
    {
     "name": "stdout",
     "output_type": "stream",
     "text": [
      "<class 'pandas.core.frame.DataFrame'>\n",
      "RangeIndex: 75 entries, 0 to 74\n",
      "Data columns (total 9 columns):\n",
      " #   Column                     Non-Null Count  Dtype  \n",
      "---  ------                     --------------  -----  \n",
      " 0   Sex                        75 non-null     object \n",
      " 1   age                        75 non-null     int64  \n",
      " 2   hight                      75 non-null     int64  \n",
      " 3   weight                     75 non-null     int64  \n",
      " 4   blood sugar                75 non-null     int64  \n",
      " 5   blood pressure             75 non-null     float64\n",
      " 6   type of diabetes           75 non-null     int64  \n",
      " 7   Complications of diabetes  75 non-null     object \n",
      " 8   Family history             75 non-null     int64  \n",
      "dtypes: float64(1), int64(6), object(2)\n",
      "memory usage: 5.4+ KB\n"
     ]
    }
   ],
   "source": [
    "daiabet.info()"
   ]
  },
  {
   "cell_type": "code",
   "execution_count": 5,
   "id": "a17d7163-29bb-4140-8721-5af2a6a612ae",
   "metadata": {},
   "outputs": [
    {
     "data": {
      "text/plain": [
       "(75, 9)"
      ]
     },
     "execution_count": 5,
     "metadata": {},
     "output_type": "execute_result"
    }
   ],
   "source": [
    "daiabet.shape"
   ]
  },
  {
   "cell_type": "code",
   "execution_count": 6,
   "id": "da3370d1-8b2e-4bd2-9035-99a2eb9527e9",
   "metadata": {},
   "outputs": [
    {
     "data": {
      "text/plain": [
       "Sex\n",
       "female    42\n",
       "male      33\n",
       "Name: count, dtype: int64"
      ]
     },
     "execution_count": 6,
     "metadata": {},
     "output_type": "execute_result"
    }
   ],
   "source": [
    "daiabet[\"Sex\"].value_counts()"
   ]
  },
  {
   "cell_type": "code",
   "execution_count": 7,
   "id": "00b3fd57-318c-43f3-8e94-894a8ca67f9d",
   "metadata": {},
   "outputs": [],
   "source": [
    "daiabet = daiabet.drop(\"Complications of diabetes\", axis=1)"
   ]
  },
  {
   "cell_type": "code",
   "execution_count": 8,
   "id": "471d1fe2-5406-475b-b4c8-deb9ca9f3118",
   "metadata": {},
   "outputs": [
    {
     "data": {
      "text/html": [
       "<div>\n",
       "<style scoped>\n",
       "    .dataframe tbody tr th:only-of-type {\n",
       "        vertical-align: middle;\n",
       "    }\n",
       "\n",
       "    .dataframe tbody tr th {\n",
       "        vertical-align: top;\n",
       "    }\n",
       "\n",
       "    .dataframe thead th {\n",
       "        text-align: right;\n",
       "    }\n",
       "</style>\n",
       "<table border=\"1\" class=\"dataframe\">\n",
       "  <thead>\n",
       "    <tr style=\"text-align: right;\">\n",
       "      <th></th>\n",
       "      <th>age</th>\n",
       "      <th>hight</th>\n",
       "      <th>weight</th>\n",
       "      <th>blood sugar</th>\n",
       "      <th>blood pressure</th>\n",
       "      <th>type of diabetes</th>\n",
       "      <th>Family history</th>\n",
       "    </tr>\n",
       "  </thead>\n",
       "  <tbody>\n",
       "    <tr>\n",
       "      <th>count</th>\n",
       "      <td>75.000000</td>\n",
       "      <td>75.000000</td>\n",
       "      <td>75.000000</td>\n",
       "      <td>75.000000</td>\n",
       "      <td>75.000000</td>\n",
       "      <td>75.000000</td>\n",
       "      <td>75.000000</td>\n",
       "    </tr>\n",
       "    <tr>\n",
       "      <th>mean</th>\n",
       "      <td>54.173333</td>\n",
       "      <td>162.906667</td>\n",
       "      <td>74.346667</td>\n",
       "      <td>191.946667</td>\n",
       "      <td>122.662667</td>\n",
       "      <td>1.720000</td>\n",
       "      <td>1.426667</td>\n",
       "    </tr>\n",
       "    <tr>\n",
       "      <th>std</th>\n",
       "      <td>12.108042</td>\n",
       "      <td>8.235016</td>\n",
       "      <td>11.542511</td>\n",
       "      <td>47.087869</td>\n",
       "      <td>16.563953</td>\n",
       "      <td>0.452022</td>\n",
       "      <td>0.497924</td>\n",
       "    </tr>\n",
       "    <tr>\n",
       "      <th>min</th>\n",
       "      <td>15.000000</td>\n",
       "      <td>147.000000</td>\n",
       "      <td>50.000000</td>\n",
       "      <td>128.000000</td>\n",
       "      <td>90.600000</td>\n",
       "      <td>1.000000</td>\n",
       "      <td>1.000000</td>\n",
       "    </tr>\n",
       "    <tr>\n",
       "      <th>25%</th>\n",
       "      <td>47.500000</td>\n",
       "      <td>158.000000</td>\n",
       "      <td>67.000000</td>\n",
       "      <td>163.000000</td>\n",
       "      <td>110.700000</td>\n",
       "      <td>1.000000</td>\n",
       "      <td>1.000000</td>\n",
       "    </tr>\n",
       "    <tr>\n",
       "      <th>50%</th>\n",
       "      <td>55.000000</td>\n",
       "      <td>160.000000</td>\n",
       "      <td>75.000000</td>\n",
       "      <td>178.000000</td>\n",
       "      <td>120.800000</td>\n",
       "      <td>2.000000</td>\n",
       "      <td>1.000000</td>\n",
       "    </tr>\n",
       "    <tr>\n",
       "      <th>75%</th>\n",
       "      <td>63.000000</td>\n",
       "      <td>168.000000</td>\n",
       "      <td>80.000000</td>\n",
       "      <td>216.500000</td>\n",
       "      <td>130.800000</td>\n",
       "      <td>2.000000</td>\n",
       "      <td>2.000000</td>\n",
       "    </tr>\n",
       "    <tr>\n",
       "      <th>max</th>\n",
       "      <td>77.000000</td>\n",
       "      <td>192.000000</td>\n",
       "      <td>110.000000</td>\n",
       "      <td>315.000000</td>\n",
       "      <td>160.800000</td>\n",
       "      <td>2.000000</td>\n",
       "      <td>2.000000</td>\n",
       "    </tr>\n",
       "  </tbody>\n",
       "</table>\n",
       "</div>"
      ],
      "text/plain": [
       "             age       hight      weight  blood sugar  blood pressure  \\\n",
       "count  75.000000   75.000000   75.000000    75.000000       75.000000   \n",
       "mean   54.173333  162.906667   74.346667   191.946667      122.662667   \n",
       "std    12.108042    8.235016   11.542511    47.087869       16.563953   \n",
       "min    15.000000  147.000000   50.000000   128.000000       90.600000   \n",
       "25%    47.500000  158.000000   67.000000   163.000000      110.700000   \n",
       "50%    55.000000  160.000000   75.000000   178.000000      120.800000   \n",
       "75%    63.000000  168.000000   80.000000   216.500000      130.800000   \n",
       "max    77.000000  192.000000  110.000000   315.000000      160.800000   \n",
       "\n",
       "       type of diabetes  Family history  \n",
       "count         75.000000       75.000000  \n",
       "mean           1.720000        1.426667  \n",
       "std            0.452022        0.497924  \n",
       "min            1.000000        1.000000  \n",
       "25%            1.000000        1.000000  \n",
       "50%            2.000000        1.000000  \n",
       "75%            2.000000        2.000000  \n",
       "max            2.000000        2.000000  "
      ]
     },
     "execution_count": 8,
     "metadata": {},
     "output_type": "execute_result"
    }
   ],
   "source": [
    "daiabet.describe()"
   ]
  },
  {
   "cell_type": "code",
   "execution_count": 9,
   "id": "f1c0e562-336a-47f9-b22e-09be65f22fce",
   "metadata": {},
   "outputs": [
    {
     "data": {
      "image/png": "[encoded data removed]",
      "text/plain": [
       "<Figure size 2000x1500 with 9 Axes>"
      ]
     },
     "metadata": {},
     "output_type": "display_data"
    }
   ],
   "source": [
    "daiabet.hist(bins=50, figsize=(20,15));"
   ]
  },
  {
   "cell_type": "code",
   "execution_count": 10,
   "id": "3b07fc40-07d9-4c39-88f2-ace5277c0354",
   "metadata": {},
   "outputs": [
    {
     "data": {
      "text/plain": [
       "Sex                 0\n",
       "age                 0\n",
       "hight               0\n",
       "weight              0\n",
       "blood sugar         0\n",
       "blood pressure      0\n",
       "type of diabetes    0\n",
       "Family history      0\n",
       "dtype: int64"
      ]
     },
     "execution_count": 10,
     "metadata": {},
     "output_type": "execute_result"
    }
   ],
   "source": [
    "daiabet.isnull().sum()"
   ]
  },
  {
   "cell_type": "markdown",
   "id": "76e9e25b-bd0e-4386-b42b-0da760596946",
   "metadata": {},
   "source": [
    "# Create a Test Set"
   ]
  },
  {
   "cell_type": "code",
   "execution_count": 11,
   "id": "15db0e1e-7445-42d8-92dc-f3d6c9acfdc8",
   "metadata": {},
   "outputs": [],
   "source": [
    "train_set, test_set = train_test_split(daiabet, test_size=0.2, random_state=42) # Split the data into 80% training and 20% testing sets"
   ]
  },
  {
   "cell_type": "code",
   "execution_count": 12,
   "id": "e5404f2d-f575-4b2a-bdfb-5d5e5c2582a3",
   "metadata": {},
   "outputs": [
    {
     "data": {
      "text/plain": [
       "((60, 8), (15, 8))"
      ]
     },
     "execution_count": 12,
     "metadata": {},
     "output_type": "execute_result"
    }
   ],
   "source": [
    "train_set.shape, test_set.shape"
   ]
  },
  {
   "cell_type": "markdown",
   "id": "c338ca64-4d8f-4fcd-ac15-f9904f950a4e",
   "metadata": {},
   "source": [
    "# Discover and Visualize the Data to Gain Insights"
   ]
  },
  {
   "cell_type": "markdown",
   "id": "30845995-5a67-471c-8fa6-f8fb6342a634",
   "metadata": {},
   "source": [
    "### Visualizing Geographical Data"
   ]
  },
  {
   "cell_type": "code",
   "execution_count": 13,
   "id": "e2430e78-ad46-4538-854e-fd833088c3e8",
   "metadata": {},
   "outputs": [],
   "source": [
    "daiabet = train_set.copy()"
   ]
  },
  {
   "cell_type": "code",
   "execution_count": 14,
   "id": "142f37b8-6cca-4c3a-98e5-3a88cedadb1b",
   "metadata": {},
   "outputs": [
    {
     "data": {
      "image/png": "[encoded data removed]",
      "text/plain": [
       "<Figure size 640x480 with 1 Axes>"
      ]
     },
     "metadata": {},
     "output_type": "display_data"
    }
   ],
   "source": [
    "daiabet.plot(kind=\"scatter\", x=\"age\", y=\"blood sugar\");"
   ]
  },
  {
   "cell_type": "code",
   "execution_count": 15,
   "id": "94064302-502d-4f34-bd18-5b5c9605d9cc",
   "metadata": {},
   "outputs": [
    {
     "data": {
      "image/png": "[encoded data removed]",
      "text/plain": [
       "<Figure size 1000x700 with 2 Axes>"
      ]
     },
     "metadata": {},
     "output_type": "display_data"
    }
   ],
   "source": [
    "daiabet.plot(kind=\"scatter\", x=\"blood sugar\", y=\"blood pressure\", alpha=0.4, \n",
    "             figsize=(10,7), c=\"age\", cmap=plt.get_cmap(\"jet\"), colorbar=True,\n",
    "             sharex=False);"
   ]
  },
  {
   "cell_type": "markdown",
   "id": "301479ff-d5f0-4596-837c-09426ff8752e",
   "metadata": {},
   "source": [
    "### Looking for Correlations"
   ]
  },
  {
   "cell_type": "code",
   "execution_count": 16,
   "id": "03aec5cd-379e-4082-ae42-0119425776f0",
   "metadata": {},
   "outputs": [
    {
     "name": "stderr",
     "output_type": "stream",
     "text": [
      "C:\\Users\\msi3\\anaconda3\\Lib\\site-packages\\seaborn\\_oldcore.py:1119: FutureWarning: use_inf_as_na option is deprecated and will be removed in a future version. Convert inf values to NaN before operating instead.\n",
      "  with pd.option_context('mode.use_inf_as_na', True):\n",
      "C:\\Users\\msi3\\anaconda3\\Lib\\site-packages\\seaborn\\_oldcore.py:1119: FutureWarning: use_inf_as_na option is deprecated and will be removed in a future version. Convert inf values to NaN before operating instead.\n",
      "  with pd.option_context('mode.use_inf_as_na', True):\n",
      "C:\\Users\\msi3\\anaconda3\\Lib\\site-packages\\seaborn\\_oldcore.py:1119: FutureWarning: use_inf_as_na option is deprecated and will be removed in a future version. Convert inf values to NaN before operating instead.\n",
      "  with pd.option_context('mode.use_inf_as_na', True):\n",
      "C:\\Users\\msi3\\anaconda3\\Lib\\site-packages\\seaborn\\_oldcore.py:1119: FutureWarning: use_inf_as_na option is deprecated and will be removed in a future version. Convert inf values to NaN before operating instead.\n",
      "  with pd.option_context('mode.use_inf_as_na', True):\n",
      "C:\\Users\\msi3\\anaconda3\\Lib\\site-packages\\seaborn\\_oldcore.py:1119: FutureWarning: use_inf_as_na option is deprecated and will be removed in a future version. Convert inf values to NaN before operating instead.\n",
      "  with pd.option_context('mode.use_inf_as_na', True):\n"
     ]
    },
    {
     "data": {
      "image/png": "[encoded data removed]",
      "text/plain": [
       "<Figure size 1250x1250 with 30 Axes>"
      ]
     },
     "metadata": {},
     "output_type": "display_data"
    }
   ],
   "source": [
    "attributes = [\"age\", \"hight\", \"weight\", \"blood sugar\", \"blood pressure\"]\n",
    "\n",
    "sns.pairplot(daiabet[attributes]);"
   ]
  },
  {
   "cell_type": "markdown",
   "id": "19871dbb-02df-4b3d-a56c-e36b4f4eef06",
   "metadata": {},
   "source": [
    "# Prepare the Data for Machine Learning Algorithms"
   ]
  },
  {
   "cell_type": "code",
   "execution_count": 17,
   "id": "791f06d2-cda3-46b3-8803-9022488e09b7",
   "metadata": {},
   "outputs": [],
   "source": [
    "daiabet = train_set.drop([\"blood sugar\", \"type of diabetes\"], axis=1) \n",
    "daiabet_labels = train_set[[\"blood sugar\", \"type of diabetes\"]].copy() "
   ]
  },
  {
   "cell_type": "code",
   "execution_count": 18,
   "id": "7950338b-eaeb-444f-83f3-11f9c005bcab",
   "metadata": {},
   "outputs": [
    {
     "data": {
      "text/html": [
       "<div>\n",
       "<style scoped>\n",
       "    .dataframe tbody tr th:only-of-type {\n",
       "        vertical-align: middle;\n",
       "    }\n",
       "\n",
       "    .dataframe tbody tr th {\n",
       "        vertical-align: top;\n",
       "    }\n",
       "\n",
       "    .dataframe thead th {\n",
       "        text-align: right;\n",
       "    }\n",
       "</style>\n",
       "<table border=\"1\" class=\"dataframe\">\n",
       "  <thead>\n",
       "    <tr style=\"text-align: right;\">\n",
       "      <th></th>\n",
       "      <th>Sex</th>\n",
       "      <th>age</th>\n",
       "      <th>hight</th>\n",
       "      <th>weight</th>\n",
       "      <th>blood pressure</th>\n",
       "      <th>Family history</th>\n",
       "    </tr>\n",
       "  </thead>\n",
       "  <tbody>\n",
       "    <tr>\n",
       "      <th>22</th>\n",
       "      <td>male</td>\n",
       "      <td>61</td>\n",
       "      <td>158</td>\n",
       "      <td>65</td>\n",
       "      <td>130.8</td>\n",
       "      <td>1</td>\n",
       "    </tr>\n",
       "    <tr>\n",
       "      <th>5</th>\n",
       "      <td>female</td>\n",
       "      <td>43</td>\n",
       "      <td>158</td>\n",
       "      <td>79</td>\n",
       "      <td>120.6</td>\n",
       "      <td>1</td>\n",
       "    </tr>\n",
       "    <tr>\n",
       "      <th>33</th>\n",
       "      <td>female</td>\n",
       "      <td>60</td>\n",
       "      <td>159</td>\n",
       "      <td>80</td>\n",
       "      <td>120.7</td>\n",
       "      <td>2</td>\n",
       "    </tr>\n",
       "    <tr>\n",
       "      <th>56</th>\n",
       "      <td>female</td>\n",
       "      <td>58</td>\n",
       "      <td>156</td>\n",
       "      <td>70</td>\n",
       "      <td>120.8</td>\n",
       "      <td>1</td>\n",
       "    </tr>\n",
       "    <tr>\n",
       "      <th>66</th>\n",
       "      <td>male</td>\n",
       "      <td>69</td>\n",
       "      <td>163</td>\n",
       "      <td>58</td>\n",
       "      <td>110.7</td>\n",
       "      <td>1</td>\n",
       "    </tr>\n",
       "  </tbody>\n",
       "</table>\n",
       "</div>"
      ],
      "text/plain": [
       "       Sex  age  hight  weight  blood pressure  Family history\n",
       "22    male   61    158      65           130.8               1\n",
       "5   female   43    158      79           120.6               1\n",
       "33  female   60    159      80           120.7               2\n",
       "56  female   58    156      70           120.8               1\n",
       "66    male   69    163      58           110.7               1"
      ]
     },
     "execution_count": 18,
     "metadata": {},
     "output_type": "execute_result"
    }
   ],
   "source": [
    "daiabet.head()"
   ]
  },
  {
   "cell_type": "code",
   "execution_count": 19,
   "id": "0e79f412-afcd-4852-968c-dc825712175c",
   "metadata": {},
   "outputs": [
    {
     "data": {
      "text/html": [
       "<div>\n",
       "<style scoped>\n",
       "    .dataframe tbody tr th:only-of-type {\n",
       "        vertical-align: middle;\n",
       "    }\n",
       "\n",
       "    .dataframe tbody tr th {\n",
       "        vertical-align: top;\n",
       "    }\n",
       "\n",
       "    .dataframe thead th {\n",
       "        text-align: right;\n",
       "    }\n",
       "</style>\n",
       "<table border=\"1\" class=\"dataframe\">\n",
       "  <thead>\n",
       "    <tr style=\"text-align: right;\">\n",
       "      <th></th>\n",
       "      <th>blood sugar</th>\n",
       "      <th>type of diabetes</th>\n",
       "    </tr>\n",
       "  </thead>\n",
       "  <tbody>\n",
       "    <tr>\n",
       "      <th>22</th>\n",
       "      <td>260</td>\n",
       "      <td>2</td>\n",
       "    </tr>\n",
       "    <tr>\n",
       "      <th>5</th>\n",
       "      <td>178</td>\n",
       "      <td>2</td>\n",
       "    </tr>\n",
       "    <tr>\n",
       "      <th>33</th>\n",
       "      <td>128</td>\n",
       "      <td>2</td>\n",
       "    </tr>\n",
       "    <tr>\n",
       "      <th>56</th>\n",
       "      <td>163</td>\n",
       "      <td>2</td>\n",
       "    </tr>\n",
       "    <tr>\n",
       "      <th>66</th>\n",
       "      <td>171</td>\n",
       "      <td>2</td>\n",
       "    </tr>\n",
       "  </tbody>\n",
       "</table>\n",
       "</div>"
      ],
      "text/plain": [
       "    blood sugar  type of diabetes\n",
       "22          260                 2\n",
       "5           178                 2\n",
       "33          128                 2\n",
       "56          163                 2\n",
       "66          171                 2"
      ]
     },
     "execution_count": 19,
     "metadata": {},
     "output_type": "execute_result"
    }
   ],
   "source": [
    "daiabet_labels.head()"
   ]
  },
  {
   "cell_type": "markdown",
   "id": "c0ba7611-94e5-4002-bd0a-8aa03a845a50",
   "metadata": {},
   "source": [
    "### Data Cleaning"
   ]
  },
  {
   "cell_type": "code",
   "execution_count": 20,
   "id": "77e3def1-b435-49fd-951c-bae9689a110f",
   "metadata": {},
   "outputs": [],
   "source": [
    "imputer = SimpleImputer(strategy=\"median\") "
   ]
  },
  {
   "cell_type": "code",
   "execution_count": 21,
   "id": "052c31a5-7cdf-43da-81af-f63a4046eca0",
   "metadata": {},
   "outputs": [],
   "source": [
    "daiabet_num = daiabet.drop(\"Sex\", axis=1)"
   ]
  },
  {
   "cell_type": "code",
   "execution_count": 22,
   "id": "cdb7f71e-a5b5-4ec7-b8cf-f2f8091a96be",
   "metadata": {},
   "outputs": [
    {
     "data": {
      "text/html": [
       "<div>\n",
       "<style scoped>\n",
       "    .dataframe tbody tr th:only-of-type {\n",
       "        vertical-align: middle;\n",
       "    }\n",
       "\n",
       "    .dataframe tbody tr th {\n",
       "        vertical-align: top;\n",
       "    }\n",
       "\n",
       "    .dataframe thead th {\n",
       "        text-align: right;\n",
       "    }\n",
       "</style>\n",
       "<table border=\"1\" class=\"dataframe\">\n",
       "  <thead>\n",
       "    <tr style=\"text-align: right;\">\n",
       "      <th></th>\n",
       "      <th>age</th>\n",
       "      <th>hight</th>\n",
       "      <th>weight</th>\n",
       "      <th>blood pressure</th>\n",
       "      <th>Family history</th>\n",
       "    </tr>\n",
       "  </thead>\n",
       "  <tbody>\n",
       "    <tr>\n",
       "      <th>22</th>\n",
       "      <td>61</td>\n",
       "      <td>158</td>\n",
       "      <td>65</td>\n",
       "      <td>130.8</td>\n",
       "      <td>1</td>\n",
       "    </tr>\n",
       "    <tr>\n",
       "      <th>5</th>\n",
       "      <td>43</td>\n",
       "      <td>158</td>\n",
       "      <td>79</td>\n",
       "      <td>120.6</td>\n",
       "      <td>1</td>\n",
       "    </tr>\n",
       "    <tr>\n",
       "      <th>33</th>\n",
       "      <td>60</td>\n",
       "      <td>159</td>\n",
       "      <td>80</td>\n",
       "      <td>120.7</td>\n",
       "      <td>2</td>\n",
       "    </tr>\n",
       "    <tr>\n",
       "      <th>56</th>\n",
       "      <td>58</td>\n",
       "      <td>156</td>\n",
       "      <td>70</td>\n",
       "      <td>120.8</td>\n",
       "      <td>1</td>\n",
       "    </tr>\n",
       "    <tr>\n",
       "      <th>66</th>\n",
       "      <td>69</td>\n",
       "      <td>163</td>\n",
       "      <td>58</td>\n",
       "      <td>110.7</td>\n",
       "      <td>1</td>\n",
       "    </tr>\n",
       "  </tbody>\n",
       "</table>\n",
       "</div>"
      ],
      "text/plain": [
       "    age  hight  weight  blood pressure  Family history\n",
       "22   61    158      65           130.8               1\n",
       "5    43    158      79           120.6               1\n",
       "33   60    159      80           120.7               2\n",
       "56   58    156      70           120.8               1\n",
       "66   69    163      58           110.7               1"
      ]
     },
     "execution_count": 22,
     "metadata": {},
     "output_type": "execute_result"
    }
   ],
   "source": [
    "daiabet_num.head()"
   ]
  },
  {
   "cell_type": "code",
   "execution_count": 23,
   "id": "a5260bba-3dd9-4b60-ab8a-210e84f25c97",
   "metadata": {},
   "outputs": [
    {
     "data": {
      "text/html": [
       "<style>#sk-container-id-1 {color: black;background-color: white;}#sk-container-id-1 pre{padding: 0;}#sk-container-id-1 div.sk-toggleable {background-color: white;}#sk-container-id-1 label.sk-toggleable__label {cursor: pointer;display: block;width: 100%;margin-bottom: 0;padding: 0.3em;box-sizing: border-box;text-align: center;}#sk-container-id-1 label.sk-toggleable__label-arrow:before {content: \"▸\";float: left;margin-right: 0.25em;color: #696969;}#sk-container-id-1 label.sk-toggleable__label-arrow:hover:before {color: black;}#sk-container-id-1 div.sk-estimator:hover label.sk-toggleable__label-arrow:before {color: black;}#sk-container-id-1 div.sk-toggleable__content {max-height: 0;max-width: 0;overflow: hidden;text-align: left;background-color: #f0f8ff;}#sk-container-id-1 div.sk-toggleable__content pre {margin: 0.2em;color: black;border-radius: 0.25em;background-color: #f0f8ff;}#sk-container-id-1 input.sk-toggleable__control:checked~div.sk-toggleable__content {max-height: 200px;max-width: 100%;overflow: auto;}#sk-container-id-1 input.sk-toggleable__control:checked~label.sk-toggleable__label-arrow:before {content: \"▾\";}#sk-container-id-1 div.sk-estimator input.sk-toggleable__control:checked~label.sk-toggleable__label {background-color: #d4ebff;}#sk-container-id-1 div.sk-label input.sk-toggleable__control:checked~label.sk-toggleable__label {background-color: #d4ebff;}#sk-container-id-1 input.sk-hidden--visually {border: 0;clip: rect(1px 1px 1px 1px);clip: rect(1px, 1px, 1px, 1px);height: 1px;margin: -1px;overflow: hidden;padding: 0;position: absolute;width: 1px;}#sk-container-id-1 div.sk-estimator {font-family: monospace;background-color: #f0f8ff;border: 1px dotted black;border-radius: 0.25em;box-sizing: border-box;margin-bottom: 0.5em;}#sk-container-id-1 div.sk-estimator:hover {background-color: #d4ebff;}#sk-container-id-1 div.sk-parallel-item::after {content: \"\";width: 100%;border-bottom: 1px solid gray;flex-grow: 1;}#sk-container-id-1 div.sk-label:hover label.sk-toggleable__label {background-color: #d4ebff;}#sk-container-id-1 div.sk-serial::before {content: \"\";position: absolute;border-left: 1px solid gray;box-sizing: border-box;top: 0;bottom: 0;left: 50%;z-index: 0;}#sk-container-id-1 div.sk-serial {display: flex;flex-direction: column;align-items: center;background-color: white;padding-right: 0.2em;padding-left: 0.2em;position: relative;}#sk-container-id-1 div.sk-item {position: relative;z-index: 1;}#sk-container-id-1 div.sk-parallel {display: flex;align-items: stretch;justify-content: center;background-color: white;position: relative;}#sk-container-id-1 div.sk-item::before, #sk-container-id-1 div.sk-parallel-item::before {content: \"\";position: absolute;border-left: 1px solid gray;box-sizing: border-box;top: 0;bottom: 0;left: 50%;z-index: -1;}#sk-container-id-1 div.sk-parallel-item {display: flex;flex-direction: column;z-index: 1;position: relative;background-color: white;}#sk-container-id-1 div.sk-parallel-item:first-child::after {align-self: flex-end;width: 50%;}#sk-container-id-1 div.sk-parallel-item:last-child::after {align-self: flex-start;width: 50%;}#sk-container-id-1 div.sk-parallel-item:only-child::after {width: 0;}#sk-container-id-1 div.sk-dashed-wrapped {border: 1px dashed gray;margin: 0 0.4em 0.5em 0.4em;box-sizing: border-box;padding-bottom: 0.4em;background-color: white;}#sk-container-id-1 div.sk-label label {font-family: monospace;font-weight: bold;display: inline-block;line-height: 1.2em;}#sk-container-id-1 div.sk-label-container {text-align: center;}#sk-container-id-1 div.sk-container {/* jupyter's `normalize.less` sets `[hidden] { display: none; }` but bootstrap.min.css set `[hidden] { display: none !important; }` so we also need the `!important` here to be able to override the default hidden behavior on the sphinx rendered scikit-learn.org. See: https://github.com/scikit-learn/scikit-learn/issues/21755 */display: inline-block !important;position: relative;}#sk-container-id-1 div.sk-text-repr-fallback {display: none;}</style><div id=\"sk-container-id-1\" class=\"sk-top-container\"><div class=\"sk-text-repr-fallback\"><pre>SimpleImputer(strategy=&#x27;median&#x27;)</pre><b>In a Jupyter environment, please rerun this cell to show the HTML representation or trust the notebook. <br />On GitHub, the HTML representation is unable to render, please try loading this page with nbviewer.org.</b></div><div class=\"sk-container\" hidden><div class=\"sk-item\"><div class=\"sk-estimator sk-toggleable\"><input class=\"sk-toggleable__control sk-hidden--visually\" id=\"sk-estimator-id-1\" type=\"checkbox\" checked><label for=\"sk-estimator-id-1\" class=\"sk-toggleable__label sk-toggleable__label-arrow\">SimpleImputer</label><div class=\"sk-toggleable__content\"><pre>SimpleImputer(strategy=&#x27;median&#x27;)</pre></div></div></div></div></div>"
      ],
      "text/plain": [
       "SimpleImputer(strategy='median')"
      ]
     },
     "execution_count": 23,
     "metadata": {},
     "output_type": "execute_result"
    }
   ],
   "source": [
    "imputer.fit(daiabet_num) "
   ]
  },
  {
   "cell_type": "code",
   "execution_count": 24,
   "id": "c91ad720-ceb7-4ade-ad18-8d3bf180516d",
   "metadata": {},
   "outputs": [
    {
     "data": {
      "text/plain": [
       "array([ 55.5, 160. ,  75. , 120.8,   1. ])"
      ]
     },
     "execution_count": 24,
     "metadata": {},
     "output_type": "execute_result"
    }
   ],
   "source": [
    "imputer.statistics_"
   ]
  },
  {
   "cell_type": "code",
   "execution_count": 25,
   "id": "c477d0b9-c599-4b7d-aade-ce61b59b76cf",
   "metadata": {},
   "outputs": [
    {
     "data": {
      "text/plain": [
       "array([ 55.5, 160. ,  75. , 120.8,   1. ])"
      ]
     },
     "execution_count": 25,
     "metadata": {},
     "output_type": "execute_result"
    }
   ],
   "source": [
    "daiabet_num.median().values"
   ]
  },
  {
   "cell_type": "code",
   "execution_count": 26,
   "id": "e155907c-057b-451a-bc19-e38928f05a35",
   "metadata": {},
   "outputs": [],
   "source": [
    "X = imputer.transform(daiabet_num) "
   ]
  },
  {
   "cell_type": "code",
   "execution_count": 27,
   "id": "5abaeffe-a89c-4b85-ab1b-db6e8f2f55cb",
   "metadata": {},
   "outputs": [
    {
     "data": {
      "text/plain": [
       "array([[ 61. , 158. ,  65. , 130.8,   1. ],\n",
       "       [ 43. , 158. ,  79. , 120.6,   1. ],\n",
       "       [ 60. , 159. ,  80. , 120.7,   2. ],\n",
       "       [ 58. , 156. ,  70. , 120.8,   1. ],\n",
       "       [ 69. , 163. ,  58. , 110.7,   1. ],\n",
       "       [ 57. , 163. ,  70. , 135.8,   1. ],\n",
       "       [ 57. , 160. ,  89. , 130.7,   1. ],\n",
       "       [ 38. , 174. ,  73. , 100.7,   1. ],\n",
       "       [ 72. , 153. ,  62. , 160.7,   1. ],\n",
       "       [ 49. , 170. ,  73. , 110.7,   1. ],\n",
       "       [ 56. , 162. ,  95. , 125.6,   2. ],\n",
       "       [ 54. , 167. ,  90. , 120.6,   1. ],\n",
       "       [ 67. , 171. ,  86. , 125.8,   2. ],\n",
       "       [ 54. , 168. ,  78. , 135.8,   1. ],\n",
       "       [ 53. , 170. , 110. , 160.8,   1. ],\n",
       "       [ 64. , 154. ,  69. , 140.8,   2. ],\n",
       "       [ 67. , 166. ,  75. , 120.8,   1. ],\n",
       "       [ 15. , 155. ,  60. ,  90.6,   2. ],\n",
       "       [ 49. , 162. ,  77. , 110.7,   1. ],\n",
       "       [ 55. , 160. ,  83. , 140.8,   1. ],\n",
       "       [ 62. , 160. ,  82. , 100.7,   2. ],\n",
       "       [ 67. , 170. ,  86. , 122.6,   2. ],\n",
       "       [ 45. , 160. ,  80. , 125.8,   2. ],\n",
       "       [ 54. , 155. ,  84. , 110.5,   1. ],\n",
       "       [ 43. , 175. ,  90. , 120.8,   2. ],\n",
       "       [ 53. , 192. ,  70. , 125.7,   2. ],\n",
       "       [ 59. , 170. ,  50. , 100.5,   1. ],\n",
       "       [ 58. , 160. ,  59. , 115.6,   2. ],\n",
       "       [ 71. , 155. ,  73. , 130.8,   1. ],\n",
       "       [ 60. , 159. ,  80. , 110.7,   1. ],\n",
       "       [ 72. , 153. ,  63. , 120.8,   1. ],\n",
       "       [ 26. , 168. ,  75. , 130.8,   1. ],\n",
       "       [ 62. , 158. ,  68. , 115.8,   2. ],\n",
       "       [ 41. , 166. ,  77. , 120.8,   1. ],\n",
       "       [ 55. , 160. ,  75. , 115.8,   1. ],\n",
       "       [ 71. , 155. ,  69. , 110.7,   1. ],\n",
       "       [ 77. , 160. ,  69. , 110.8,   1. ],\n",
       "       [ 46. , 158. ,  80. , 100.7,   1. ],\n",
       "       [ 73. , 160. ,  79. , 140.7,   1. ],\n",
       "       [ 22. , 162. ,  65. , 120.8,   2. ],\n",
       "       [ 57. , 172. ,  63. , 140.6,   2. ],\n",
       "       [ 51. , 172. ,  63. , 125.8,   2. ],\n",
       "       [ 57. , 166. ,  78. , 130.8,   1. ],\n",
       "       [ 40. , 160. ,  78. , 150.8,   1. ],\n",
       "       [ 48. , 160. , 100. , 140.8,   2. ],\n",
       "       [ 65. , 160. ,  80. , 160.6,   1. ],\n",
       "       [ 45. , 178. ,  80. , 100.7,   2. ],\n",
       "       [ 50. , 159. ,  58. , 140.7,   1. ],\n",
       "       [ 34. , 155. ,  69. , 120.9,   2. ],\n",
       "       [ 51. , 159. ,  78. , 130.8,   2. ],\n",
       "       [ 64. , 175. ,  65. , 110.6,   1. ],\n",
       "       [ 54. , 160. ,  88. , 160.8,   1. ],\n",
       "       [ 45. , 158. ,  92. , 120.6,   2. ],\n",
       "       [ 55. , 168. ,  77. , 100.6,   1. ],\n",
       "       [ 66. , 159. ,  69. , 120.7,   1. ],\n",
       "       [ 65. , 159. ,  58. , 140.8,   1. ],\n",
       "       [ 65. , 165. ,  89. , 120.8,   2. ],\n",
       "       [ 69. , 167. ,  56. , 140.6,   2. ],\n",
       "       [ 48. , 162. ,  70. , 110.7,   2. ],\n",
       "       [ 51. , 147. ,  58. , 100.6,   1. ]])"
      ]
     },
     "execution_count": 27,
     "metadata": {},
     "output_type": "execute_result"
    }
   ],
   "source": [
    "X"
   ]
  },
  {
   "cell_type": "code",
   "execution_count": 28,
   "id": "8d905415-d6ec-44bf-8085-e963143df375",
   "metadata": {},
   "outputs": [],
   "source": [
    "daiabet_tr = pd.DataFrame(X, columns=daiabet_num.columns, index=daiabet_num.index) "
   ]
  },
  {
   "cell_type": "code",
   "execution_count": 29,
   "id": "754dfbdb-4458-4d49-9e89-0298dcc93c9d",
   "metadata": {},
   "outputs": [
    {
     "data": {
      "text/html": [
       "<div>\n",
       "<style scoped>\n",
       "    .dataframe tbody tr th:only-of-type {\n",
       "        vertical-align: middle;\n",
       "    }\n",
       "\n",
       "    .dataframe tbody tr th {\n",
       "        vertical-align: top;\n",
       "    }\n",
       "\n",
       "    .dataframe thead th {\n",
       "        text-align: right;\n",
       "    }\n",
       "</style>\n",
       "<table border=\"1\" class=\"dataframe\">\n",
       "  <thead>\n",
       "    <tr style=\"text-align: right;\">\n",
       "      <th></th>\n",
       "      <th>age</th>\n",
       "      <th>hight</th>\n",
       "      <th>weight</th>\n",
       "      <th>blood pressure</th>\n",
       "      <th>Family history</th>\n",
       "    </tr>\n",
       "  </thead>\n",
       "  <tbody>\n",
       "    <tr>\n",
       "      <th>22</th>\n",
       "      <td>61.0</td>\n",
       "      <td>158.0</td>\n",
       "      <td>65.0</td>\n",
       "      <td>130.8</td>\n",
       "      <td>1.0</td>\n",
       "    </tr>\n",
       "    <tr>\n",
       "      <th>5</th>\n",
       "      <td>43.0</td>\n",
       "      <td>158.0</td>\n",
       "      <td>79.0</td>\n",
       "      <td>120.6</td>\n",
       "      <td>1.0</td>\n",
       "    </tr>\n",
       "    <tr>\n",
       "      <th>33</th>\n",
       "      <td>60.0</td>\n",
       "      <td>159.0</td>\n",
       "      <td>80.0</td>\n",
       "      <td>120.7</td>\n",
       "      <td>2.0</td>\n",
       "    </tr>\n",
       "    <tr>\n",
       "      <th>56</th>\n",
       "      <td>58.0</td>\n",
       "      <td>156.0</td>\n",
       "      <td>70.0</td>\n",
       "      <td>120.8</td>\n",
       "      <td>1.0</td>\n",
       "    </tr>\n",
       "    <tr>\n",
       "      <th>66</th>\n",
       "      <td>69.0</td>\n",
       "      <td>163.0</td>\n",
       "      <td>58.0</td>\n",
       "      <td>110.7</td>\n",
       "      <td>1.0</td>\n",
       "    </tr>\n",
       "  </tbody>\n",
       "</table>\n",
       "</div>"
      ],
      "text/plain": [
       "     age  hight  weight  blood pressure  Family history\n",
       "22  61.0  158.0    65.0           130.8             1.0\n",
       "5   43.0  158.0    79.0           120.6             1.0\n",
       "33  60.0  159.0    80.0           120.7             2.0\n",
       "56  58.0  156.0    70.0           120.8             1.0\n",
       "66  69.0  163.0    58.0           110.7             1.0"
      ]
     },
     "execution_count": 29,
     "metadata": {},
     "output_type": "execute_result"
    }
   ],
   "source": [
    "daiabet_tr.head()"
   ]
  },
  {
   "cell_type": "markdown",
   "id": "97684b2c-5fdf-4718-af71-159526dba316",
   "metadata": {},
   "source": [
    "### Handling Text and Categorical Attributes"
   ]
  },
  {
   "cell_type": "code",
   "execution_count": 30,
   "id": "615fab9a-544e-423e-91bf-a2e56f419823",
   "metadata": {},
   "outputs": [],
   "source": [
    "daiabet_cat = daiabet[[\"Sex\"]]"
   ]
  },
  {
   "cell_type": "code",
   "execution_count": 31,
   "id": "6179d656-4b90-4b5f-a4fe-62b2be5d4fe5",
   "metadata": {},
   "outputs": [
    {
     "data": {
      "text/html": [
       "<div>\n",
       "<style scoped>\n",
       "    .dataframe tbody tr th:only-of-type {\n",
       "        vertical-align: middle;\n",
       "    }\n",
       "\n",
       "    .dataframe tbody tr th {\n",
       "        vertical-align: top;\n",
       "    }\n",
       "\n",
       "    .dataframe thead th {\n",
       "        text-align: right;\n",
       "    }\n",
       "</style>\n",
       "<table border=\"1\" class=\"dataframe\">\n",
       "  <thead>\n",
       "    <tr style=\"text-align: right;\">\n",
       "      <th></th>\n",
       "      <th>Sex</th>\n",
       "    </tr>\n",
       "  </thead>\n",
       "  <tbody>\n",
       "    <tr>\n",
       "      <th>22</th>\n",
       "      <td>male</td>\n",
       "    </tr>\n",
       "    <tr>\n",
       "      <th>5</th>\n",
       "      <td>female</td>\n",
       "    </tr>\n",
       "    <tr>\n",
       "      <th>33</th>\n",
       "      <td>female</td>\n",
       "    </tr>\n",
       "    <tr>\n",
       "      <th>56</th>\n",
       "      <td>female</td>\n",
       "    </tr>\n",
       "    <tr>\n",
       "      <th>66</th>\n",
       "      <td>male</td>\n",
       "    </tr>\n",
       "  </tbody>\n",
       "</table>\n",
       "</div>"
      ],
      "text/plain": [
       "       Sex\n",
       "22    male\n",
       "5   female\n",
       "33  female\n",
       "56  female\n",
       "66    male"
      ]
     },
     "execution_count": 31,
     "metadata": {},
     "output_type": "execute_result"
    }
   ],
   "source": [
    "daiabet_cat.head()"
   ]
  },
  {
   "cell_type": "code",
   "execution_count": 32,
   "id": "8f4550a0-be6b-4bbc-a7bb-7719d128d45c",
   "metadata": {},
   "outputs": [
    {
     "data": {
      "text/plain": [
       "array([[1.],\n",
       "       [0.],\n",
       "       [0.],\n",
       "       [0.],\n",
       "       [1.],\n",
       "       [0.],\n",
       "       [0.],\n",
       "       [1.],\n",
       "       [0.],\n",
       "       [1.]])"
      ]
     },
     "execution_count": 32,
     "metadata": {},
     "output_type": "execute_result"
    }
   ],
   "source": [
    "ordinal_encoder = OrdinalEncoder() # Create an ordinal encoder object\n",
    "daiabet_cat_encoded = ordinal_encoder.fit_transform(daiabet_cat) # Encode the categorical data as ordinal numbers\n",
    "daiabet_cat_encoded[:10]"
   ]
  },
  {
   "cell_type": "code",
   "execution_count": 33,
   "id": "976b8ec0-0559-4d7a-ab38-36a141f8b5be",
   "metadata": {},
   "outputs": [
    {
     "data": {
      "text/plain": [
       "[array(['female', 'male'], dtype=object)]"
      ]
     },
     "execution_count": 33,
     "metadata": {},
     "output_type": "execute_result"
    }
   ],
   "source": [
    "ordinal_encoder.categories_"
   ]
  },
  {
   "cell_type": "code",
   "execution_count": 34,
   "id": "223e0324-713e-45e6-b80c-5b7321d3c423",
   "metadata": {},
   "outputs": [
    {
     "data": {
      "text/plain": [
       "array([[0., 1.],\n",
       "       [1., 0.],\n",
       "       [1., 0.],\n",
       "       [1., 0.],\n",
       "       [0., 1.],\n",
       "       [1., 0.],\n",
       "       [1., 0.],\n",
       "       [0., 1.],\n",
       "       [1., 0.],\n",
       "       [0., 1.],\n",
       "       [0., 1.],\n",
       "       [1., 0.],\n",
       "       [0., 1.],\n",
       "       [0., 1.],\n",
       "       [0., 1.],\n",
       "       [1., 0.],\n",
       "       [0., 1.],\n",
       "       [0., 1.],\n",
       "       [1., 0.],\n",
       "       [1., 0.],\n",
       "       [0., 1.],\n",
       "       [1., 0.],\n",
       "       [1., 0.],\n",
       "       [1., 0.],\n",
       "       [0., 1.],\n",
       "       [0., 1.],\n",
       "       [0., 1.],\n",
       "       [1., 0.],\n",
       "       [1., 0.],\n",
       "       [1., 0.],\n",
       "       [1., 0.],\n",
       "       [1., 0.],\n",
       "       [0., 1.],\n",
       "       [0., 1.],\n",
       "       [1., 0.],\n",
       "       [0., 1.],\n",
       "       [0., 1.],\n",
       "       [1., 0.],\n",
       "       [0., 1.],\n",
       "       [0., 1.],\n",
       "       [0., 1.],\n",
       "       [1., 0.],\n",
       "       [1., 0.],\n",
       "       [0., 1.],\n",
       "       [1., 0.],\n",
       "       [0., 1.],\n",
       "       [0., 1.],\n",
       "       [0., 1.],\n",
       "       [1., 0.],\n",
       "       [1., 0.],\n",
       "       [0., 1.],\n",
       "       [1., 0.],\n",
       "       [1., 0.],\n",
       "       [0., 1.],\n",
       "       [0., 1.],\n",
       "       [1., 0.],\n",
       "       [1., 0.],\n",
       "       [1., 0.],\n",
       "       [1., 0.],\n",
       "       [1., 0.]])"
      ]
     },
     "execution_count": 34,
     "metadata": {},
     "output_type": "execute_result"
    }
   ],
   "source": [
    "cat_encoder = OneHotEncoder() \n",
    "daiabet_cat_1hot = cat_encoder.fit_transform(daiabet_cat) \n",
    "daiabet_cat_1hot\n",
    "\n",
    "daiabet_cat_1hot.toarray()"
   ]
  },
  {
   "cell_type": "code",
   "execution_count": 35,
   "id": "68249282-a88d-4152-983f-6076899e2824",
   "metadata": {},
   "outputs": [
    {
     "name": "stderr",
     "output_type": "stream",
     "text": [
      "C:\\Users\\msi3\\anaconda3\\Lib\\site-packages\\sklearn\\preprocessing\\_encoders.py:868: FutureWarning: `sparse` was renamed to `sparse_output` in version 1.2 and will be removed in 1.4. `sparse_output` is ignored unless you leave `sparse` to its default value.\n",
      "  warnings.warn(\n"
     ]
    },
    {
     "data": {
      "text/plain": [
       "array([[0., 1.],\n",
       "       [1., 0.],\n",
       "       [1., 0.],\n",
       "       [1., 0.],\n",
       "       [0., 1.],\n",
       "       [1., 0.],\n",
       "       [1., 0.],\n",
       "       [0., 1.],\n",
       "       [1., 0.],\n",
       "       [0., 1.],\n",
       "       [0., 1.],\n",
       "       [1., 0.],\n",
       "       [0., 1.],\n",
       "       [0., 1.],\n",
       "       [0., 1.],\n",
       "       [1., 0.],\n",
       "       [0., 1.],\n",
       "       [0., 1.],\n",
       "       [1., 0.],\n",
       "       [1., 0.],\n",
       "       [0., 1.],\n",
       "       [1., 0.],\n",
       "       [1., 0.],\n",
       "       [1., 0.],\n",
       "       [0., 1.],\n",
       "       [0., 1.],\n",
       "       [0., 1.],\n",
       "       [1., 0.],\n",
       "       [1., 0.],\n",
       "       [1., 0.],\n",
       "       [1., 0.],\n",
       "       [1., 0.],\n",
       "       [0., 1.],\n",
       "       [0., 1.],\n",
       "       [1., 0.],\n",
       "       [0., 1.],\n",
       "       [0., 1.],\n",
       "       [1., 0.],\n",
       "       [0., 1.],\n",
       "       [0., 1.],\n",
       "       [0., 1.],\n",
       "       [1., 0.],\n",
       "       [1., 0.],\n",
       "       [0., 1.],\n",
       "       [1., 0.],\n",
       "       [0., 1.],\n",
       "       [0., 1.],\n",
       "       [0., 1.],\n",
       "       [1., 0.],\n",
       "       [1., 0.],\n",
       "       [0., 1.],\n",
       "       [1., 0.],\n",
       "       [1., 0.],\n",
       "       [0., 1.],\n",
       "       [0., 1.],\n",
       "       [1., 0.],\n",
       "       [1., 0.],\n",
       "       [1., 0.],\n",
       "       [1., 0.],\n",
       "       [1., 0.]])"
      ]
     },
     "execution_count": 35,
     "metadata": {},
     "output_type": "execute_result"
    }
   ],
   "source": [
    "cat_encoder = OneHotEncoder(sparse=False) # Create a one-hot encoder object with dense output\n",
    "daiabet_cat_1hot = cat_encoder.fit_transform(daiabet_cat) # Encode the categorical data as one-hot vectors\n",
    "daiabet_cat_1hot"
   ]
  },
  {
   "cell_type": "markdown",
   "id": "02110770-e73e-4f54-8b77-d72ee0d258a4",
   "metadata": {},
   "source": [
    "### Transformation Pipelines"
   ]
  },
  {
   "cell_type": "code",
   "execution_count": 36,
   "id": "46144cea-ef85-4d4a-a7c3-7436c53ce588",
   "metadata": {},
   "outputs": [],
   "source": [
    "num_pipeline = Pipeline([\n",
    "        ('imputer', SimpleImputer(strategy=\"median\")),\n",
    "        ('std_scaler', StandardScaler()),\n",
    "    ])\n",
    "\n",
    "daiabet_num_tr = num_pipeline.fit_transform(daiabet_num) # Fit and transform the numerical data with the pipeline"
   ]
  },
  {
   "cell_type": "code",
   "execution_count": 37,
   "id": "b983cdcd-b969-4a16-8800-6159e2056f81",
   "metadata": {},
   "outputs": [],
   "source": [
    "num_attribs = list(daiabet_num) # Get the list of numerical attributes\n",
    "cat_attribs = [\"Sex\"] # Get the list of categorical attributes\n",
    "\n",
    "# Create a full pipeline that applies different transformations to different columns\n",
    "# Apply the numerical pipeline to the numerical attributes\n",
    "# Apply the one-hot encoder to the categorical attributes\n",
    "full_pipeline = ColumnTransformer([\n",
    "        (\"num\", num_pipeline, num_attribs),\n",
    "        (\"cat\", OneHotEncoder(), cat_attribs),\n",
    "    ])\n",
    "daiabet_prepared = full_pipeline.fit_transform(daiabet) # Fit and transform the data with the full pipeline"
   ]
  },
  {
   "cell_type": "code",
   "execution_count": 38,
   "id": "bd50626b-37cf-488e-90a6-adf4684691c8",
   "metadata": {},
   "outputs": [
    {
     "data": {
      "text/plain": [
       "array([[ 0.49275981, -0.64560642, -0.84032731,  0.42401042, -0.78842985,\n",
       "         0.        ,  1.        ],\n",
       "       [-0.96526922, -0.64560642,  0.36629652, -0.20460968, -0.78842985,\n",
       "         1.        ,  0.        ],\n",
       "       [ 0.4117582 , -0.51016451,  0.45248394, -0.19844674,  1.26834366,\n",
       "         1.        ,  0.        ],\n",
       "       [ 0.24975497, -0.91649023, -0.40939023, -0.1922838 , -0.78842985,\n",
       "         1.        ,  0.        ],\n",
       "       [ 1.14077271,  0.03160311, -1.44363923, -0.81474096, -0.78842985,\n",
       "         0.        ,  1.        ],\n",
       "       [ 0.16875336,  0.03160311, -0.40939023,  0.73215754, -0.78842985,\n",
       "         1.        ,  0.        ],\n",
       "       [ 0.16875336, -0.37472261,  1.22817068,  0.41784748, -0.78842985,\n",
       "         1.        ,  0.        ],\n",
       "       [-1.37027728,  1.52146408, -0.15082798, -1.43103518, -0.78842985,\n",
       "         0.        ,  1.        ],\n",
       "       [ 1.38377755, -1.32281595, -1.09888956,  2.26673015, -0.78842985,\n",
       "         1.        ,  0.        ],\n",
       "       [-0.47925954,  0.97969645, -0.15082798, -0.81474096, -0.78842985,\n",
       "         0.        ,  1.        ],\n",
       "       [ 0.08775175, -0.10383879,  1.74529518,  0.10353743,  1.26834366,\n",
       "         0.        ,  1.        ],\n",
       "       [-0.07425148,  0.57337074,  1.3143581 , -0.20460968, -0.78842985,\n",
       "         1.        ,  0.        ],\n",
       "       [ 0.97876948,  1.11513836,  0.96960844,  0.11586331,  1.26834366,\n",
       "         0.        ,  1.        ],\n",
       "       [-0.07425148,  0.70881264,  0.2801091 ,  0.73215754, -0.78842985,\n",
       "         0.        ,  1.        ],\n",
       "       [-0.15525309,  0.97969645,  3.03810643,  2.27289309, -0.78842985,\n",
       "         0.        ,  1.        ],\n",
       "       [ 0.73576465, -1.18737404, -0.49557764,  1.04030465,  1.26834366,\n",
       "         1.        ,  0.        ],\n",
       "       [ 0.97876948,  0.43792883,  0.02154685, -0.1922838 , -0.78842985,\n",
       "         0.        ,  1.        ],\n",
       "       [-3.23331436, -1.05193214, -1.27126439, -2.05349235,  1.26834366,\n",
       "         0.        ,  1.        ],\n",
       "       [-0.47925954, -0.10383879,  0.19392169, -0.81474096, -0.78842985,\n",
       "         1.        ,  0.        ],\n",
       "       [ 0.00675013, -0.37472261,  0.71104619,  1.04030465, -0.78842985,\n",
       "         1.        ,  0.        ],\n",
       "       [ 0.57376142, -0.37472261,  0.62485877, -1.43103518,  1.26834366,\n",
       "         0.        ,  1.        ],\n",
       "       [ 0.97876948,  0.97969645,  0.96960844, -0.08135084,  1.26834366,\n",
       "         1.        ,  0.        ],\n",
       "       [-0.80326599, -0.37472261,  0.45248394,  0.11586331,  1.26834366,\n",
       "         1.        ,  0.        ],\n",
       "       [-0.07425148, -1.05193214,  0.7972336 , -0.82706685, -0.78842985,\n",
       "         1.        ,  0.        ],\n",
       "       [-0.96526922,  1.65690598,  1.3143581 , -0.1922838 ,  1.26834366,\n",
       "         0.        ,  1.        ],\n",
       "       [-0.15525309,  3.95941838, -0.40939023,  0.10970037,  1.26834366,\n",
       "         0.        ,  1.        ],\n",
       "       [ 0.33075658,  0.97969645, -2.13313856, -1.44336107, -0.78842985,\n",
       "         0.        ,  1.        ],\n",
       "       [ 0.24975497, -0.37472261, -1.35745181, -0.51275679,  1.26834366,\n",
       "         1.        ,  0.        ],\n",
       "       [ 1.30277593, -1.05193214, -0.15082798,  0.42401042, -0.78842985,\n",
       "         1.        ,  0.        ],\n",
       "       [ 0.4117582 , -0.51016451,  0.45248394, -0.81474096, -0.78842985,\n",
       "         1.        ,  0.        ],\n",
       "       [ 1.38377755, -1.32281595, -1.01270214, -0.1922838 , -0.78842985,\n",
       "         1.        ,  0.        ],\n",
       "       [-2.34229663,  0.70881264,  0.02154685,  0.42401042, -0.78842985,\n",
       "         1.        ,  0.        ],\n",
       "       [ 0.57376142, -0.64560642, -0.58176506, -0.50043091,  1.26834366,\n",
       "         0.        ,  1.        ],\n",
       "       [-1.12727244,  0.43792883,  0.19392169, -0.1922838 , -0.78842985,\n",
       "         0.        ,  1.        ],\n",
       "       [ 0.00675013, -0.37472261,  0.02154685, -0.50043091, -0.78842985,\n",
       "         1.        ,  0.        ],\n",
       "       [ 1.30277593, -1.05193214, -0.49557764, -0.81474096, -0.78842985,\n",
       "         0.        ,  1.        ],\n",
       "       [ 1.78878561, -0.37472261, -0.49557764, -0.80857802, -0.78842985,\n",
       "         0.        ,  1.        ],\n",
       "       [-0.72226438, -0.64560642,  0.45248394, -1.43103518, -0.78842985,\n",
       "         1.        ,  0.        ],\n",
       "       [ 1.46477916, -0.37472261,  0.36629652,  1.0341417 , -0.78842985,\n",
       "         0.        ,  1.        ],\n",
       "       [-2.66630308, -0.10383879, -0.84032731, -0.1922838 ,  1.26834366,\n",
       "         0.        ,  1.        ],\n",
       "       [ 0.16875336,  1.25058027, -1.01270214,  1.02797876,  1.26834366,\n",
       "         0.        ,  1.        ],\n",
       "       [-0.31725632,  1.25058027, -1.01270214,  0.11586331,  1.26834366,\n",
       "         1.        ,  0.        ],\n",
       "       [ 0.16875336,  0.43792883,  0.2801091 ,  0.42401042, -0.78842985,\n",
       "         1.        ,  0.        ],\n",
       "       [-1.20827405, -0.37472261,  0.2801091 ,  1.65659887, -0.78842985,\n",
       "         0.        ,  1.        ],\n",
       "       [-0.56026115, -0.37472261,  2.17623227,  1.04030465,  1.26834366,\n",
       "         1.        ,  0.        ],\n",
       "       [ 0.81676626, -0.37472261,  0.45248394,  2.26056721, -0.78842985,\n",
       "         0.        ,  1.        ],\n",
       "       [-0.80326599,  2.0632317 ,  0.45248394, -1.43103518,  1.26834366,\n",
       "         0.        ,  1.        ],\n",
       "       [-0.39825793, -0.51016451, -1.44363923,  1.0341417 , -0.78842985,\n",
       "         0.        ,  1.        ],\n",
       "       [-1.69428373, -1.05193214, -0.49557764, -0.18612086,  1.26834366,\n",
       "         1.        ,  0.        ],\n",
       "       [-0.31725632, -0.51016451,  0.2801091 ,  0.42401042,  1.26834366,\n",
       "         1.        ,  0.        ],\n",
       "       [ 0.73576465,  1.65690598, -0.84032731, -0.8209039 , -0.78842985,\n",
       "         0.        ,  1.        ],\n",
       "       [-0.07425148, -0.37472261,  1.14198327,  2.27289309, -0.78842985,\n",
       "         1.        ,  0.        ],\n",
       "       [-0.80326599, -0.64560642,  1.48673293, -0.20460968,  1.26834366,\n",
       "         1.        ,  0.        ],\n",
       "       [ 0.00675013,  0.70881264,  0.19392169, -1.43719813, -0.78842985,\n",
       "         0.        ,  1.        ],\n",
       "       [ 0.89776787, -0.51016451, -0.49557764, -0.19844674, -0.78842985,\n",
       "         0.        ,  1.        ],\n",
       "       [ 0.81676626, -0.51016451, -1.44363923,  1.04030465, -0.78842985,\n",
       "         1.        ,  0.        ],\n",
       "       [ 0.81676626,  0.30248692,  1.22817068, -0.1922838 ,  1.26834366,\n",
       "         1.        ,  0.        ],\n",
       "       [ 1.14077271,  0.57337074, -1.61601406,  1.02797876,  1.26834366,\n",
       "         1.        ,  0.        ],\n",
       "       [-0.56026115, -0.10383879, -0.40939023, -0.81474096,  1.26834366,\n",
       "         1.        ,  0.        ],\n",
       "       [-0.31725632, -2.13546738, -1.44363923, -1.43719813, -0.78842985,\n",
       "         1.        ,  0.        ]])"
      ]
     },
     "execution_count": 38,
     "metadata": {},
     "output_type": "execute_result"
    }
   ],
   "source": [
    "daiabet_prepared"
   ]
  },
  {
   "cell_type": "code",
   "execution_count": 39,
   "id": "3f2e6315-d2c0-465c-8b86-a59f8bfd1b40",
   "metadata": {},
   "outputs": [
    {
     "data": {
      "text/plain": [
       "(60, 7)"
      ]
     },
     "execution_count": 39,
     "metadata": {},
     "output_type": "execute_result"
    }
   ],
   "source": [
    "daiabet_prepared.shape"
   ]
  },
  {
   "cell_type": "markdown",
   "id": "62c82a8b-4c4d-40c2-9608-b7e62e009253",
   "metadata": {},
   "source": [
    "# Select and Train a Model"
   ]
  },
  {
   "cell_type": "markdown",
   "id": "7988a601-4d40-4123-bc8f-3c6e0b6c4de4",
   "metadata": {},
   "source": [
    "## LinearRegression"
   ]
  },
  {
   "cell_type": "code",
   "execution_count": 40,
   "id": "8332ca42-4861-444d-b5d3-37b5d371fef4",
   "metadata": {},
   "outputs": [
    {
     "data": {
      "text/html": [
       "<style>#sk-container-id-2 {color: black;background-color: white;}#sk-container-id-2 pre{padding: 0;}#sk-container-id-2 div.sk-toggleable {background-color: white;}#sk-container-id-2 label.sk-toggleable__label {cursor: pointer;display: block;width: 100%;margin-bottom: 0;padding: 0.3em;box-sizing: border-box;text-align: center;}#sk-container-id-2 label.sk-toggleable__label-arrow:before {content: \"▸\";float: left;margin-right: 0.25em;color: #696969;}#sk-container-id-2 label.sk-toggleable__label-arrow:hover:before {color: black;}#sk-container-id-2 div.sk-estimator:hover label.sk-toggleable__label-arrow:before {color: black;}#sk-container-id-2 div.sk-toggleable__content {max-height: 0;max-width: 0;overflow: hidden;text-align: left;background-color: #f0f8ff;}#sk-container-id-2 div.sk-toggleable__content pre {margin: 0.2em;color: black;border-radius: 0.25em;background-color: #f0f8ff;}#sk-container-id-2 input.sk-toggleable__control:checked~div.sk-toggleable__content {max-height: 200px;max-width: 100%;overflow: auto;}#sk-container-id-2 input.sk-toggleable__control:checked~label.sk-toggleable__label-arrow:before {content: \"▾\";}#sk-container-id-2 div.sk-estimator input.sk-toggleable__control:checked~label.sk-toggleable__label {background-color: #d4ebff;}#sk-container-id-2 div.sk-label input.sk-toggleable__control:checked~label.sk-toggleable__label {background-color: #d4ebff;}#sk-container-id-2 input.sk-hidden--visually {border: 0;clip: rect(1px 1px 1px 1px);clip: rect(1px, 1px, 1px, 1px);height: 1px;margin: -1px;overflow: hidden;padding: 0;position: absolute;width: 1px;}#sk-container-id-2 div.sk-estimator {font-family: monospace;background-color: #f0f8ff;border: 1px dotted black;border-radius: 0.25em;box-sizing: border-box;margin-bottom: 0.5em;}#sk-container-id-2 div.sk-estimator:hover {background-color: #d4ebff;}#sk-container-id-2 div.sk-parallel-item::after {content: \"\";width: 100%;border-bottom: 1px solid gray;flex-grow: 1;}#sk-container-id-2 div.sk-label:hover label.sk-toggleable__label {background-color: #d4ebff;}#sk-container-id-2 div.sk-serial::before {content: \"\";position: absolute;border-left: 1px solid gray;box-sizing: border-box;top: 0;bottom: 0;left: 50%;z-index: 0;}#sk-container-id-2 div.sk-serial {display: flex;flex-direction: column;align-items: center;background-color: white;padding-right: 0.2em;padding-left: 0.2em;position: relative;}#sk-container-id-2 div.sk-item {position: relative;z-index: 1;}#sk-container-id-2 div.sk-parallel {display: flex;align-items: stretch;justify-content: center;background-color: white;position: relative;}#sk-container-id-2 div.sk-item::before, #sk-container-id-2 div.sk-parallel-item::before {content: \"\";position: absolute;border-left: 1px solid gray;box-sizing: border-box;top: 0;bottom: 0;left: 50%;z-index: -1;}#sk-container-id-2 div.sk-parallel-item {display: flex;flex-direction: column;z-index: 1;position: relative;background-color: white;}#sk-container-id-2 div.sk-parallel-item:first-child::after {align-self: flex-end;width: 50%;}#sk-container-id-2 div.sk-parallel-item:last-child::after {align-self: flex-start;width: 50%;}#sk-container-id-2 div.sk-parallel-item:only-child::after {width: 0;}#sk-container-id-2 div.sk-dashed-wrapped {border: 1px dashed gray;margin: 0 0.4em 0.5em 0.4em;box-sizing: border-box;padding-bottom: 0.4em;background-color: white;}#sk-container-id-2 div.sk-label label {font-family: monospace;font-weight: bold;display: inline-block;line-height: 1.2em;}#sk-container-id-2 div.sk-label-container {text-align: center;}#sk-container-id-2 div.sk-container {/* jupyter's `normalize.less` sets `[hidden] { display: none; }` but bootstrap.min.css set `[hidden] { display: none !important; }` so we also need the `!important` here to be able to override the default hidden behavior on the sphinx rendered scikit-learn.org. See: https://github.com/scikit-learn/scikit-learn/issues/21755 */display: inline-block !important;position: relative;}#sk-container-id-2 div.sk-text-repr-fallback {display: none;}</style><div id=\"sk-container-id-2\" class=\"sk-top-container\"><div class=\"sk-text-repr-fallback\"><pre>LinearRegression()</pre><b>In a Jupyter environment, please rerun this cell to show the HTML representation or trust the notebook. <br />On GitHub, the HTML representation is unable to render, please try loading this page with nbviewer.org.</b></div><div class=\"sk-container\" hidden><div class=\"sk-item\"><div class=\"sk-estimator sk-toggleable\"><input class=\"sk-toggleable__control sk-hidden--visually\" id=\"sk-estimator-id-2\" type=\"checkbox\" checked><label for=\"sk-estimator-id-2\" class=\"sk-toggleable__label sk-toggleable__label-arrow\">LinearRegression</label><div class=\"sk-toggleable__content\"><pre>LinearRegression()</pre></div></div></div></div></div>"
      ],
      "text/plain": [
       "LinearRegression()"
      ]
     },
     "execution_count": 40,
     "metadata": {},
     "output_type": "execute_result"
    }
   ],
   "source": [
    "lin_reg = LinearRegression()\n",
    "lin_reg.fit(daiabet_prepared, daiabet_labels)"
   ]
  },
  {
   "cell_type": "code",
   "execution_count": 41,
   "id": "8a364034-f11d-4454-8c18-1bdeb937ade6",
   "metadata": {},
   "outputs": [],
   "source": [
    "# let's try the full preprocessing pipeline on a few training instances\n",
    "some_data = daiabet.iloc[:5] # Get the first five rows of the data\n",
    "some_labels = daiabet_labels.iloc[:5] # Get the first five labels of the data\n",
    "some_data_prepared = full_pipeline.transform(some_data) # Transform the data with the full pipeline"
   ]
  },
  {
   "cell_type": "code",
   "execution_count": 42,
   "id": "bea63d71-5c15-4e9f-9f9c-1151c0d25a41",
   "metadata": {},
   "outputs": [
    {
     "data": {
      "text/html": [
       "<div>\n",
       "<style scoped>\n",
       "    .dataframe tbody tr th:only-of-type {\n",
       "        vertical-align: middle;\n",
       "    }\n",
       "\n",
       "    .dataframe tbody tr th {\n",
       "        vertical-align: top;\n",
       "    }\n",
       "\n",
       "    .dataframe thead th {\n",
       "        text-align: right;\n",
       "    }\n",
       "</style>\n",
       "<table border=\"1\" class=\"dataframe\">\n",
       "  <thead>\n",
       "    <tr style=\"text-align: right;\">\n",
       "      <th></th>\n",
       "      <th>Sex</th>\n",
       "      <th>age</th>\n",
       "      <th>hight</th>\n",
       "      <th>weight</th>\n",
       "      <th>blood pressure</th>\n",
       "      <th>Family history</th>\n",
       "    </tr>\n",
       "  </thead>\n",
       "  <tbody>\n",
       "    <tr>\n",
       "      <th>22</th>\n",
       "      <td>male</td>\n",
       "      <td>61</td>\n",
       "      <td>158</td>\n",
       "      <td>65</td>\n",
       "      <td>130.8</td>\n",
       "      <td>1</td>\n",
       "    </tr>\n",
       "    <tr>\n",
       "      <th>5</th>\n",
       "      <td>female</td>\n",
       "      <td>43</td>\n",
       "      <td>158</td>\n",
       "      <td>79</td>\n",
       "      <td>120.6</td>\n",
       "      <td>1</td>\n",
       "    </tr>\n",
       "    <tr>\n",
       "      <th>33</th>\n",
       "      <td>female</td>\n",
       "      <td>60</td>\n",
       "      <td>159</td>\n",
       "      <td>80</td>\n",
       "      <td>120.7</td>\n",
       "      <td>2</td>\n",
       "    </tr>\n",
       "    <tr>\n",
       "      <th>56</th>\n",
       "      <td>female</td>\n",
       "      <td>58</td>\n",
       "      <td>156</td>\n",
       "      <td>70</td>\n",
       "      <td>120.8</td>\n",
       "      <td>1</td>\n",
       "    </tr>\n",
       "    <tr>\n",
       "      <th>66</th>\n",
       "      <td>male</td>\n",
       "      <td>69</td>\n",
       "      <td>163</td>\n",
       "      <td>58</td>\n",
       "      <td>110.7</td>\n",
       "      <td>1</td>\n",
       "    </tr>\n",
       "  </tbody>\n",
       "</table>\n",
       "</div>"
      ],
      "text/plain": [
       "       Sex  age  hight  weight  blood pressure  Family history\n",
       "22    male   61    158      65           130.8               1\n",
       "5   female   43    158      79           120.6               1\n",
       "33  female   60    159      80           120.7               2\n",
       "56  female   58    156      70           120.8               1\n",
       "66    male   69    163      58           110.7               1"
      ]
     },
     "execution_count": 42,
     "metadata": {},
     "output_type": "execute_result"
    }
   ],
   "source": [
    "some_data.head()"
   ]
  },
  {
   "cell_type": "code",
   "execution_count": 43,
   "id": "ee2b1717-4c19-428d-b92d-05d5182fcd26",
   "metadata": {},
   "outputs": [
    {
     "data": {
      "text/html": [
       "<div>\n",
       "<style scoped>\n",
       "    .dataframe tbody tr th:only-of-type {\n",
       "        vertical-align: middle;\n",
       "    }\n",
       "\n",
       "    .dataframe tbody tr th {\n",
       "        vertical-align: top;\n",
       "    }\n",
       "\n",
       "    .dataframe thead th {\n",
       "        text-align: right;\n",
       "    }\n",
       "</style>\n",
       "<table border=\"1\" class=\"dataframe\">\n",
       "  <thead>\n",
       "    <tr style=\"text-align: right;\">\n",
       "      <th></th>\n",
       "      <th>blood sugar</th>\n",
       "      <th>type of diabetes</th>\n",
       "    </tr>\n",
       "  </thead>\n",
       "  <tbody>\n",
       "    <tr>\n",
       "      <th>22</th>\n",
       "      <td>260</td>\n",
       "      <td>2</td>\n",
       "    </tr>\n",
       "    <tr>\n",
       "      <th>5</th>\n",
       "      <td>178</td>\n",
       "      <td>2</td>\n",
       "    </tr>\n",
       "    <tr>\n",
       "      <th>33</th>\n",
       "      <td>128</td>\n",
       "      <td>2</td>\n",
       "    </tr>\n",
       "    <tr>\n",
       "      <th>56</th>\n",
       "      <td>163</td>\n",
       "      <td>2</td>\n",
       "    </tr>\n",
       "    <tr>\n",
       "      <th>66</th>\n",
       "      <td>171</td>\n",
       "      <td>2</td>\n",
       "    </tr>\n",
       "  </tbody>\n",
       "</table>\n",
       "</div>"
      ],
      "text/plain": [
       "    blood sugar  type of diabetes\n",
       "22          260                 2\n",
       "5           178                 2\n",
       "33          128                 2\n",
       "56          163                 2\n",
       "66          171                 2"
      ]
     },
     "execution_count": 43,
     "metadata": {},
     "output_type": "execute_result"
    }
   ],
   "source": [
    "some_labels.head()"
   ]
  },
  {
   "cell_type": "code",
   "execution_count": 44,
   "id": "3b81f30f-0e0f-4f2f-9521-ea541712620f",
   "metadata": {},
   "outputs": [
    {
     "name": "stdout",
     "output_type": "stream",
     "text": [
      "[ 0.49275981 -0.64560642 -0.84032731  0.42401042 -0.78842985  0.\n",
      "  1.        ]\n"
     ]
    }
   ],
   "source": [
    "print(some_data_prepared[0])"
   ]
  },
  {
   "cell_type": "code",
   "execution_count": 45,
   "id": "2160fdaa-06ee-4c30-ad81-b26843f51064",
   "metadata": {},
   "outputs": [
    {
     "name": "stdout",
     "output_type": "stream",
     "text": [
      "Predictions: [[206.44510964   1.66496972]\n",
      " [197.32212398   1.90968367]\n",
      " [183.39900026   1.74619528]\n",
      " [191.55205289   1.8740085 ]\n",
      " [184.04448838   1.59836964]]\n",
      "Labels:     blood sugar  type of diabetes\n",
      "22          260                 2\n",
      "5           178                 2\n",
      "33          128                 2\n",
      "56          163                 2\n",
      "66          171                 2\n"
     ]
    }
   ],
   "source": [
    "print(\"Predictions:\", lin_reg.predict(some_data_prepared))\n",
    "print(\"Labels:\", some_labels)"
   ]
  },
  {
   "cell_type": "code",
   "execution_count": 46,
   "id": "5451f901-bd4a-40cc-81b1-2be9d574afcc",
   "metadata": {},
   "outputs": [
    {
     "data": {
      "text/plain": [
       "21.658387652625876"
      ]
     },
     "execution_count": 46,
     "metadata": {},
     "output_type": "execute_result"
    }
   ],
   "source": [
    "# Let’s measure this regression model’s RMSE on the whole training set\n",
    "\n",
    "daiabet_predictions = lin_reg.predict(daiabet_prepared)\n",
    "lin_rmse = mean_squared_error(daiabet_labels, daiabet_predictions, squared=False)\n",
    "lin_rmse"
   ]
  },
  {
   "cell_type": "markdown",
   "id": "9b052af7-90ea-453c-96d4-2185fa383cac",
   "metadata": {},
   "source": [
    "## DecisionTreeRegressor"
   ]
  },
  {
   "cell_type": "code",
   "execution_count": 47,
   "id": "bf6f3b06-477d-4781-8e76-49fdf2fd1a43",
   "metadata": {},
   "outputs": [
    {
     "data": {
      "text/html": [
       "<style>#sk-container-id-3 {color: black;background-color: white;}#sk-container-id-3 pre{padding: 0;}#sk-container-id-3 div.sk-toggleable {background-color: white;}#sk-container-id-3 label.sk-toggleable__label {cursor: pointer;display: block;width: 100%;margin-bottom: 0;padding: 0.3em;box-sizing: border-box;text-align: center;}#sk-container-id-3 label.sk-toggleable__label-arrow:before {content: \"▸\";float: left;margin-right: 0.25em;color: #696969;}#sk-container-id-3 label.sk-toggleable__label-arrow:hover:before {color: black;}#sk-container-id-3 div.sk-estimator:hover label.sk-toggleable__label-arrow:before {color: black;}#sk-container-id-3 div.sk-toggleable__content {max-height: 0;max-width: 0;overflow: hidden;text-align: left;background-color: #f0f8ff;}#sk-container-id-3 div.sk-toggleable__content pre {margin: 0.2em;color: black;border-radius: 0.25em;background-color: #f0f8ff;}#sk-container-id-3 input.sk-toggleable__control:checked~div.sk-toggleable__content {max-height: 200px;max-width: 100%;overflow: auto;}#sk-container-id-3 input.sk-toggleable__control:checked~label.sk-toggleable__label-arrow:before {content: \"▾\";}#sk-container-id-3 div.sk-estimator input.sk-toggleable__control:checked~label.sk-toggleable__label {background-color: #d4ebff;}#sk-container-id-3 div.sk-label input.sk-toggleable__control:checked~label.sk-toggleable__label {background-color: #d4ebff;}#sk-container-id-3 input.sk-hidden--visually {border: 0;clip: rect(1px 1px 1px 1px);clip: rect(1px, 1px, 1px, 1px);height: 1px;margin: -1px;overflow: hidden;padding: 0;position: absolute;width: 1px;}#sk-container-id-3 div.sk-estimator {font-family: monospace;background-color: #f0f8ff;border: 1px dotted black;border-radius: 0.25em;box-sizing: border-box;margin-bottom: 0.5em;}#sk-container-id-3 div.sk-estimator:hover {background-color: #d4ebff;}#sk-container-id-3 div.sk-parallel-item::after {content: \"\";width: 100%;border-bottom: 1px solid gray;flex-grow: 1;}#sk-container-id-3 div.sk-label:hover label.sk-toggleable__label {background-color: #d4ebff;}#sk-container-id-3 div.sk-serial::before {content: \"\";position: absolute;border-left: 1px solid gray;box-sizing: border-box;top: 0;bottom: 0;left: 50%;z-index: 0;}#sk-container-id-3 div.sk-serial {display: flex;flex-direction: column;align-items: center;background-color: white;padding-right: 0.2em;padding-left: 0.2em;position: relative;}#sk-container-id-3 div.sk-item {position: relative;z-index: 1;}#sk-container-id-3 div.sk-parallel {display: flex;align-items: stretch;justify-content: center;background-color: white;position: relative;}#sk-container-id-3 div.sk-item::before, #sk-container-id-3 div.sk-parallel-item::before {content: \"\";position: absolute;border-left: 1px solid gray;box-sizing: border-box;top: 0;bottom: 0;left: 50%;z-index: -1;}#sk-container-id-3 div.sk-parallel-item {display: flex;flex-direction: column;z-index: 1;position: relative;background-color: white;}#sk-container-id-3 div.sk-parallel-item:first-child::after {align-self: flex-end;width: 50%;}#sk-container-id-3 div.sk-parallel-item:last-child::after {align-self: flex-start;width: 50%;}#sk-container-id-3 div.sk-parallel-item:only-child::after {width: 0;}#sk-container-id-3 div.sk-dashed-wrapped {border: 1px dashed gray;margin: 0 0.4em 0.5em 0.4em;box-sizing: border-box;padding-bottom: 0.4em;background-color: white;}#sk-container-id-3 div.sk-label label {font-family: monospace;font-weight: bold;display: inline-block;line-height: 1.2em;}#sk-container-id-3 div.sk-label-container {text-align: center;}#sk-container-id-3 div.sk-container {/* jupyter's `normalize.less` sets `[hidden] { display: none; }` but bootstrap.min.css set `[hidden] { display: none !important; }` so we also need the `!important` here to be able to override the default hidden behavior on the sphinx rendered scikit-learn.org. See: https://github.com/scikit-learn/scikit-learn/issues/21755 */display: inline-block !important;position: relative;}#sk-container-id-3 div.sk-text-repr-fallback {display: none;}</style><div id=\"sk-container-id-3\" class=\"sk-top-container\"><div class=\"sk-text-repr-fallback\"><pre>DecisionTreeRegressor()</pre><b>In a Jupyter environment, please rerun this cell to show the HTML representation or trust the notebook. <br />On GitHub, the HTML representation is unable to render, please try loading this page with nbviewer.org.</b></div><div class=\"sk-container\" hidden><div class=\"sk-item\"><div class=\"sk-estimator sk-toggleable\"><input class=\"sk-toggleable__control sk-hidden--visually\" id=\"sk-estimator-id-3\" type=\"checkbox\" checked><label for=\"sk-estimator-id-3\" class=\"sk-toggleable__label sk-toggleable__label-arrow\">DecisionTreeRegressor</label><div class=\"sk-toggleable__content\"><pre>DecisionTreeRegressor()</pre></div></div></div></div></div>"
      ],
      "text/plain": [
       "DecisionTreeRegressor()"
      ]
     },
     "execution_count": 47,
     "metadata": {},
     "output_type": "execute_result"
    }
   ],
   "source": [
    "tree_reg = DecisionTreeRegressor()\n",
    "tree_reg.fit(daiabet_prepared, daiabet_labels)"
   ]
  },
  {
   "cell_type": "code",
   "execution_count": 48,
   "id": "0e25264b-791b-4c7d-b6ed-bd62acbaf1da",
   "metadata": {},
   "outputs": [
    {
     "data": {
      "text/plain": [
       "0.0"
      ]
     },
     "execution_count": 48,
     "metadata": {},
     "output_type": "execute_result"
    }
   ],
   "source": [
    "daiabet_predictions = tree_reg.predict(daiabet_prepared)\n",
    "tree_mse = mean_squared_error(daiabet_labels, daiabet_predictions)\n",
    "tree_rmse = np.sqrt(tree_mse)\n",
    "tree_rmse"
   ]
  },
  {
   "cell_type": "code",
   "execution_count": 49,
   "id": "a8cccd5e-343a-4876-8fa9-3eea209c776a",
   "metadata": {},
   "outputs": [
    {
     "name": "stdout",
     "output_type": "stream",
     "text": [
      "Predictions: [[260.   2.]\n",
      " [178.   2.]\n",
      " [128.   2.]\n",
      " [163.   2.]\n",
      " [171.   2.]]\n",
      "Labels:     blood sugar  type of diabetes\n",
      "22          260                 2\n",
      "5           178                 2\n",
      "33          128                 2\n",
      "56          163                 2\n",
      "66          171                 2\n"
     ]
    }
   ],
   "source": [
    "print(\"Predictions:\", tree_reg.predict(some_data_prepared))\n",
    "print(\"Labels:\", some_labels)"
   ]
  },
  {
   "cell_type": "markdown",
   "id": "2f10f96e-b717-4452-ae39-ac4ca8d209be",
   "metadata": {},
   "source": [
    "### Better Evaluation Using Cross-Validation"
   ]
  },
  {
   "cell_type": "code",
   "execution_count": 50,
   "id": "afef9aef-4d0e-43cd-bad9-273b13d6bce9",
   "metadata": {},
   "outputs": [],
   "source": [
    "scores = cross_val_score(tree_reg, daiabet_prepared, daiabet_predictions,\n",
    "                         scoring=\"neg_mean_squared_error\", cv=10)\n",
    "tree_rmse_scores = np.sqrt(-scores)"
   ]
  },
  {
   "cell_type": "code",
   "execution_count": 51,
   "id": "14816a3f-7816-417f-b230-0010faa67bc7",
   "metadata": {},
   "outputs": [
    {
     "name": "stdout",
     "output_type": "stream",
     "text": [
      "Scores: [37.93525186 48.26144079 62.16644325 28.23561581 55.57502437 63.47506072\n",
      " 52.87248812 73.54590403 30.6906609  35.39067674]\n",
      "Mean: 48.81485665802436\n",
      "Standard deviation: 14.552826854482072\n"
     ]
    }
   ],
   "source": [
    "def display_scores(scores):\n",
    "    print(\"Scores:\", scores)\n",
    "    print(\"Mean:\", scores.mean())\n",
    "    print(\"Standard deviation:\", scores.std())\n",
    "\n",
    "display_scores(tree_rmse_scores)"
   ]
  },
  {
   "cell_type": "code",
   "execution_count": 52,
   "id": "95083547-e85c-4075-a476-c0be35e18382",
   "metadata": {},
   "outputs": [
    {
     "name": "stdout",
     "output_type": "stream",
     "text": [
      "Predictions: [[260.   2.]\n",
      " [178.   2.]\n",
      " [128.   2.]\n",
      " [163.   2.]\n",
      " [171.   2.]]\n",
      "Labels:     blood sugar  type of diabetes\n",
      "22          260                 2\n",
      "5           178                 2\n",
      "33          128                 2\n",
      "56          163                 2\n",
      "66          171                 2\n"
     ]
    }
   ],
   "source": [
    "print(\"Predictions:\", tree_reg.predict(some_data_prepared))\n",
    "print(\"Labels:\", some_labels)"
   ]
  },
  {
   "cell_type": "markdown",
   "id": "7903ff88-097a-4bc4-8f05-c0f54d261cd3",
   "metadata": {},
   "source": [
    "The Decision Tree model is overfitting so badly that it performs worse than the Linear Regression model."
   ]
  },
  {
   "cell_type": "markdown",
   "id": "b19e781e-37fa-41ca-8809-84361e0336b7",
   "metadata": {},
   "source": [
    "## RandomForestRegressor"
   ]
  },
  {
   "cell_type": "code",
   "execution_count": 53,
   "id": "731eed84-a921-476b-b502-045d8a716f10",
   "metadata": {},
   "outputs": [
    {
     "data": {
      "text/plain": [
       "11.91109804622003"
      ]
     },
     "execution_count": 53,
     "metadata": {},
     "output_type": "execute_result"
    }
   ],
   "source": [
    "forest_reg = RandomForestRegressor(n_estimators=100, random_state=42)\n",
    "forest_reg.fit(daiabet_prepared, daiabet_labels)\n",
    "daiabet_predictions = forest_reg.predict(daiabet_prepared)\n",
    "forest_mse = mean_squared_error(daiabet_labels, daiabet_predictions)\n",
    "forest_rmse = np.sqrt(forest_mse)\n",
    "forest_rmse"
   ]
  },
  {
   "cell_type": "code",
   "execution_count": 54,
   "id": "a220bfeb-567f-41bf-a4e4-bd9c6c7696cc",
   "metadata": {},
   "outputs": [
    {
     "name": "stdout",
     "output_type": "stream",
     "text": [
      "Scores: [28.60372251 43.71250355 27.01948325 21.1593614  37.54513817 39.27693057\n",
      " 37.44054465 48.88712109 35.58741257 16.9621176 ]\n",
      "Mean: 33.61943353520382\n",
      "Standard deviation: 9.498951938960431\n"
     ]
    }
   ],
   "source": [
    "forest_scores = cross_val_score(forest_reg, daiabet_prepared, daiabet_labels,\n",
    "                                scoring=\"neg_mean_squared_error\", cv=10)\n",
    "forest_rmse_scores = np.sqrt(-forest_scores)\n",
    "display_scores(forest_rmse_scores)"
   ]
  },
  {
   "cell_type": "code",
   "execution_count": 55,
   "id": "16c607b1-e052-43be-816e-704ea53c7263",
   "metadata": {},
   "outputs": [
    {
     "name": "stdout",
     "output_type": "stream",
     "text": [
      "Predictions: [[234.2    1.86]\n",
      " [179.2    1.91]\n",
      " [144.58   1.94]\n",
      " [179.1    1.92]\n",
      " [174.97   1.85]]\n",
      "Labels:     blood sugar  type of diabetes\n",
      "22          260                 2\n",
      "5           178                 2\n",
      "33          128                 2\n",
      "56          163                 2\n",
      "66          171                 2\n"
     ]
    }
   ],
   "source": [
    "print(\"Predictions:\", forest_reg.predict(some_data_prepared))\n",
    "print(\"Labels:\", some_labels)"
   ]
  },
  {
   "cell_type": "markdown",
   "id": "82c52229-4967-4f5f-8390-9f6fa2776d2b",
   "metadata": {},
   "source": [
    "# Fine-Tune The Model"
   ]
  },
  {
   "cell_type": "markdown",
   "id": "1849a82d-3e39-47de-bce5-057c33cc97cd",
   "metadata": {},
   "source": [
    "## Grid Search"
   ]
  },
  {
   "cell_type": "code",
   "execution_count": 56,
   "id": "8b8e6c9d-ef06-4e90-ba32-5437968ca473",
   "metadata": {},
   "outputs": [
    {
     "data": {
      "text/html": [
       "<style>#sk-container-id-4 {color: black;background-color: white;}#sk-container-id-4 pre{padding: 0;}#sk-container-id-4 div.sk-toggleable {background-color: white;}#sk-container-id-4 label.sk-toggleable__label {cursor: pointer;display: block;width: 100%;margin-bottom: 0;padding: 0.3em;box-sizing: border-box;text-align: center;}#sk-container-id-4 label.sk-toggleable__label-arrow:before {content: \"▸\";float: left;margin-right: 0.25em;color: #696969;}#sk-container-id-4 label.sk-toggleable__label-arrow:hover:before {color: black;}#sk-container-id-4 div.sk-estimator:hover label.sk-toggleable__label-arrow:before {color: black;}#sk-container-id-4 div.sk-toggleable__content {max-height: 0;max-width: 0;overflow: hidden;text-align: left;background-color: #f0f8ff;}#sk-container-id-4 div.sk-toggleable__content pre {margin: 0.2em;color: black;border-radius: 0.25em;background-color: #f0f8ff;}#sk-container-id-4 input.sk-toggleable__control:checked~div.sk-toggleable__content {max-height: 200px;max-width: 100%;overflow: auto;}#sk-container-id-4 input.sk-toggleable__control:checked~label.sk-toggleable__label-arrow:before {content: \"▾\";}#sk-container-id-4 div.sk-estimator input.sk-toggleable__control:checked~label.sk-toggleable__label {background-color: #d4ebff;}#sk-container-id-4 div.sk-label input.sk-toggleable__control:checked~label.sk-toggleable__label {background-color: #d4ebff;}#sk-container-id-4 input.sk-hidden--visually {border: 0;clip: rect(1px 1px 1px 1px);clip: rect(1px, 1px, 1px, 1px);height: 1px;margin: -1px;overflow: hidden;padding: 0;position: absolute;width: 1px;}#sk-container-id-4 div.sk-estimator {font-family: monospace;background-color: #f0f8ff;border: 1px dotted black;border-radius: 0.25em;box-sizing: border-box;margin-bottom: 0.5em;}#sk-container-id-4 div.sk-estimator:hover {background-color: #d4ebff;}#sk-container-id-4 div.sk-parallel-item::after {content: \"\";width: 100%;border-bottom: 1px solid gray;flex-grow: 1;}#sk-container-id-4 div.sk-label:hover label.sk-toggleable__label {background-color: #d4ebff;}#sk-container-id-4 div.sk-serial::before {content: \"\";position: absolute;border-left: 1px solid gray;box-sizing: border-box;top: 0;bottom: 0;left: 50%;z-index: 0;}#sk-container-id-4 div.sk-serial {display: flex;flex-direction: column;align-items: center;background-color: white;padding-right: 0.2em;padding-left: 0.2em;position: relative;}#sk-container-id-4 div.sk-item {position: relative;z-index: 1;}#sk-container-id-4 div.sk-parallel {display: flex;align-items: stretch;justify-content: center;background-color: white;position: relative;}#sk-container-id-4 div.sk-item::before, #sk-container-id-4 div.sk-parallel-item::before {content: \"\";position: absolute;border-left: 1px solid gray;box-sizing: border-box;top: 0;bottom: 0;left: 50%;z-index: -1;}#sk-container-id-4 div.sk-parallel-item {display: flex;flex-direction: column;z-index: 1;position: relative;background-color: white;}#sk-container-id-4 div.sk-parallel-item:first-child::after {align-self: flex-end;width: 50%;}#sk-container-id-4 div.sk-parallel-item:last-child::after {align-self: flex-start;width: 50%;}#sk-container-id-4 div.sk-parallel-item:only-child::after {width: 0;}#sk-container-id-4 div.sk-dashed-wrapped {border: 1px dashed gray;margin: 0 0.4em 0.5em 0.4em;box-sizing: border-box;padding-bottom: 0.4em;background-color: white;}#sk-container-id-4 div.sk-label label {font-family: monospace;font-weight: bold;display: inline-block;line-height: 1.2em;}#sk-container-id-4 div.sk-label-container {text-align: center;}#sk-container-id-4 div.sk-container {/* jupyter's `normalize.less` sets `[hidden] { display: none; }` but bootstrap.min.css set `[hidden] { display: none !important; }` so we also need the `!important` here to be able to override the default hidden behavior on the sphinx rendered scikit-learn.org. See: https://github.com/scikit-learn/scikit-learn/issues/21755 */display: inline-block !important;position: relative;}#sk-container-id-4 div.sk-text-repr-fallback {display: none;}</style><div id=\"sk-container-id-4\" class=\"sk-top-container\"><div class=\"sk-text-repr-fallback\"><pre>GridSearchCV(cv=5, estimator=RandomForestRegressor(random_state=42),\n",
       "             param_grid=[{&#x27;max_features&#x27;: [2, 4, 6, 8],\n",
       "                          &#x27;n_estimators&#x27;: [3, 10, 30]},\n",
       "                         {&#x27;bootstrap&#x27;: [False], &#x27;max_features&#x27;: [2, 3, 4],\n",
       "                          &#x27;n_estimators&#x27;: [3, 10]}],\n",
       "             return_train_score=True, scoring=&#x27;neg_mean_squared_error&#x27;)</pre><b>In a Jupyter environment, please rerun this cell to show the HTML representation or trust the notebook. <br />On GitHub, the HTML representation is unable to render, please try loading this page with nbviewer.org.</b></div><div class=\"sk-container\" hidden><div class=\"sk-item sk-dashed-wrapped\"><div class=\"sk-label-container\"><div class=\"sk-label sk-toggleable\"><input class=\"sk-toggleable__control sk-hidden--visually\" id=\"sk-estimator-id-4\" type=\"checkbox\" ><label for=\"sk-estimator-id-4\" class=\"sk-toggleable__label sk-toggleable__label-arrow\">GridSearchCV</label><div class=\"sk-toggleable__content\"><pre>GridSearchCV(cv=5, estimator=RandomForestRegressor(random_state=42),\n",
       "             param_grid=[{&#x27;max_features&#x27;: [2, 4, 6, 8],\n",
       "                          &#x27;n_estimators&#x27;: [3, 10, 30]},\n",
       "                         {&#x27;bootstrap&#x27;: [False], &#x27;max_features&#x27;: [2, 3, 4],\n",
       "                          &#x27;n_estimators&#x27;: [3, 10]}],\n",
       "             return_train_score=True, scoring=&#x27;neg_mean_squared_error&#x27;)</pre></div></div></div><div class=\"sk-parallel\"><div class=\"sk-parallel-item\"><div class=\"sk-item\"><div class=\"sk-label-container\"><div class=\"sk-label sk-toggleable\"><input class=\"sk-toggleable__control sk-hidden--visually\" id=\"sk-estimator-id-5\" type=\"checkbox\" ><label for=\"sk-estimator-id-5\" class=\"sk-toggleable__label sk-toggleable__label-arrow\">estimator: RandomForestRegressor</label><div class=\"sk-toggleable__content\"><pre>RandomForestRegressor(random_state=42)</pre></div></div></div><div class=\"sk-serial\"><div class=\"sk-item\"><div class=\"sk-estimator sk-toggleable\"><input class=\"sk-toggleable__control sk-hidden--visually\" id=\"sk-estimator-id-6\" type=\"checkbox\" ><label for=\"sk-estimator-id-6\" class=\"sk-toggleable__label sk-toggleable__label-arrow\">RandomForestRegressor</label><div class=\"sk-toggleable__content\"><pre>RandomForestRegressor(random_state=42)</pre></div></div></div></div></div></div></div></div></div></div>"
      ],
      "text/plain": [
       "GridSearchCV(cv=5, estimator=RandomForestRegressor(random_state=42),\n",
       "             param_grid=[{'max_features': [2, 4, 6, 8],\n",
       "                          'n_estimators': [3, 10, 30]},\n",
       "                         {'bootstrap': [False], 'max_features': [2, 3, 4],\n",
       "                          'n_estimators': [3, 10]}],\n",
       "             return_train_score=True, scoring='neg_mean_squared_error')"
      ]
     },
     "execution_count": 56,
     "metadata": {},
     "output_type": "execute_result"
    }
   ],
   "source": [
    "param_grid = [\n",
    "    {'n_estimators': [3, 10, 30], 'max_features': [2, 4, 6, 8]},\n",
    "    {'bootstrap': [False], 'n_estimators': [3, 10], 'max_features': [2, 3, 4]},\n",
    "  ]\n",
    "\n",
    "forest_reg = RandomForestRegressor(random_state=42)\n",
    "grid_search = GridSearchCV(forest_reg, param_grid, cv=5,\n",
    "                           scoring='neg_mean_squared_error',\n",
    "                           return_train_score=True)\n",
    "grid_search.fit(daiabet_prepared, daiabet_labels)"
   ]
  },
  {
   "cell_type": "code",
   "execution_count": 57,
   "id": "464d662d-b9cb-479b-8167-59cbcd6d6bf8",
   "metadata": {},
   "outputs": [
    {
     "data": {
      "text/plain": [
       "{'max_features': 4, 'n_estimators': 30}"
      ]
     },
     "execution_count": 57,
     "metadata": {},
     "output_type": "execute_result"
    }
   ],
   "source": [
    "grid_search.best_params_"
   ]
  },
  {
   "cell_type": "code",
   "execution_count": 58,
   "id": "4f355512-94fb-4966-8e11-80ade536b190",
   "metadata": {},
   "outputs": [
    {
     "data": {
      "text/html": [
       "<style>#sk-container-id-5 {color: black;background-color: white;}#sk-container-id-5 pre{padding: 0;}#sk-container-id-5 div.sk-toggleable {background-color: white;}#sk-container-id-5 label.sk-toggleable__label {cursor: pointer;display: block;width: 100%;margin-bottom: 0;padding: 0.3em;box-sizing: border-box;text-align: center;}#sk-container-id-5 label.sk-toggleable__label-arrow:before {content: \"▸\";float: left;margin-right: 0.25em;color: #696969;}#sk-container-id-5 label.sk-toggleable__label-arrow:hover:before {color: black;}#sk-container-id-5 div.sk-estimator:hover label.sk-toggleable__label-arrow:before {color: black;}#sk-container-id-5 div.sk-toggleable__content {max-height: 0;max-width: 0;overflow: hidden;text-align: left;background-color: #f0f8ff;}#sk-container-id-5 div.sk-toggleable__content pre {margin: 0.2em;color: black;border-radius: 0.25em;background-color: #f0f8ff;}#sk-container-id-5 input.sk-toggleable__control:checked~div.sk-toggleable__content {max-height: 200px;max-width: 100%;overflow: auto;}#sk-container-id-5 input.sk-toggleable__control:checked~label.sk-toggleable__label-arrow:before {content: \"▾\";}#sk-container-id-5 div.sk-estimator input.sk-toggleable__control:checked~label.sk-toggleable__label {background-color: #d4ebff;}#sk-container-id-5 div.sk-label input.sk-toggleable__control:checked~label.sk-toggleable__label {background-color: #d4ebff;}#sk-container-id-5 input.sk-hidden--visually {border: 0;clip: rect(1px 1px 1px 1px);clip: rect(1px, 1px, 1px, 1px);height: 1px;margin: -1px;overflow: hidden;padding: 0;position: absolute;width: 1px;}#sk-container-id-5 div.sk-estimator {font-family: monospace;background-color: #f0f8ff;border: 1px dotted black;border-radius: 0.25em;box-sizing: border-box;margin-bottom: 0.5em;}#sk-container-id-5 div.sk-estimator:hover {background-color: #d4ebff;}#sk-container-id-5 div.sk-parallel-item::after {content: \"\";width: 100%;border-bottom: 1px solid gray;flex-grow: 1;}#sk-container-id-5 div.sk-label:hover label.sk-toggleable__label {background-color: #d4ebff;}#sk-container-id-5 div.sk-serial::before {content: \"\";position: absolute;border-left: 1px solid gray;box-sizing: border-box;top: 0;bottom: 0;left: 50%;z-index: 0;}#sk-container-id-5 div.sk-serial {display: flex;flex-direction: column;align-items: center;background-color: white;padding-right: 0.2em;padding-left: 0.2em;position: relative;}#sk-container-id-5 div.sk-item {position: relative;z-index: 1;}#sk-container-id-5 div.sk-parallel {display: flex;align-items: stretch;justify-content: center;background-color: white;position: relative;}#sk-container-id-5 div.sk-item::before, #sk-container-id-5 div.sk-parallel-item::before {content: \"\";position: absolute;border-left: 1px solid gray;box-sizing: border-box;top: 0;bottom: 0;left: 50%;z-index: -1;}#sk-container-id-5 div.sk-parallel-item {display: flex;flex-direction: column;z-index: 1;position: relative;background-color: white;}#sk-container-id-5 div.sk-parallel-item:first-child::after {align-self: flex-end;width: 50%;}#sk-container-id-5 div.sk-parallel-item:last-child::after {align-self: flex-start;width: 50%;}#sk-container-id-5 div.sk-parallel-item:only-child::after {width: 0;}#sk-container-id-5 div.sk-dashed-wrapped {border: 1px dashed gray;margin: 0 0.4em 0.5em 0.4em;box-sizing: border-box;padding-bottom: 0.4em;background-color: white;}#sk-container-id-5 div.sk-label label {font-family: monospace;font-weight: bold;display: inline-block;line-height: 1.2em;}#sk-container-id-5 div.sk-label-container {text-align: center;}#sk-container-id-5 div.sk-container {/* jupyter's `normalize.less` sets `[hidden] { display: none; }` but bootstrap.min.css set `[hidden] { display: none !important; }` so we also need the `!important` here to be able to override the default hidden behavior on the sphinx rendered scikit-learn.org. See: https://github.com/scikit-learn/scikit-learn/issues/21755 */display: inline-block !important;position: relative;}#sk-container-id-5 div.sk-text-repr-fallback {display: none;}</style><div id=\"sk-container-id-5\" class=\"sk-top-container\"><div class=\"sk-text-repr-fallback\"><pre>RandomForestRegressor(max_features=4, n_estimators=30, random_state=42)</pre><b>In a Jupyter environment, please rerun this cell to show the HTML representation or trust the notebook. <br />On GitHub, the HTML representation is unable to render, please try loading this page with nbviewer.org.</b></div><div class=\"sk-container\" hidden><div class=\"sk-item\"><div class=\"sk-estimator sk-toggleable\"><input class=\"sk-toggleable__control sk-hidden--visually\" id=\"sk-estimator-id-7\" type=\"checkbox\" checked><label for=\"sk-estimator-id-7\" class=\"sk-toggleable__label sk-toggleable__label-arrow\">RandomForestRegressor</label><div class=\"sk-toggleable__content\"><pre>RandomForestRegressor(max_features=4, n_estimators=30, random_state=42)</pre></div></div></div></div></div>"
      ],
      "text/plain": [
       "RandomForestRegressor(max_features=4, n_estimators=30, random_state=42)"
      ]
     },
     "execution_count": 58,
     "metadata": {},
     "output_type": "execute_result"
    }
   ],
   "source": [
    "grid_search.best_estimator_"
   ]
  },
  {
   "cell_type": "code",
   "execution_count": 59,
   "id": "fdbf06ff-13a6-4a67-8a10-439659c9900c",
   "metadata": {},
   "outputs": [
    {
     "data": {
      "text/plain": [
       "34.2137322170824"
      ]
     },
     "execution_count": 59,
     "metadata": {},
     "output_type": "execute_result"
    }
   ],
   "source": [
    "np.sqrt(-grid_search.best_score_)"
   ]
  },
  {
   "cell_type": "code",
   "execution_count": 60,
   "id": "2ae7841d-b4b4-43b2-9e9d-f8b5c7ff6d8a",
   "metadata": {},
   "outputs": [
    {
     "name": "stdout",
     "output_type": "stream",
     "text": [
      "37.24128036148815 {'max_features': 2, 'n_estimators': 3}\n",
      "34.787133636829964 {'max_features': 2, 'n_estimators': 10}\n",
      "34.70270549277849 {'max_features': 2, 'n_estimators': 30}\n",
      "38.926854483762234 {'max_features': 4, 'n_estimators': 3}\n",
      "34.40773047829029 {'max_features': 4, 'n_estimators': 10}\n",
      "34.2137322170824 {'max_features': 4, 'n_estimators': 30}\n",
      "37.061422990409774 {'max_features': 6, 'n_estimators': 3}\n",
      "35.289345653704984 {'max_features': 6, 'n_estimators': 10}\n",
      "35.28666060520132 {'max_features': 6, 'n_estimators': 30}\n",
      "38.0935495657535 {'max_features': 8, 'n_estimators': 3}\n",
      "35.57910084117735 {'max_features': 8, 'n_estimators': 10}\n",
      "35.89616726161825 {'max_features': 8, 'n_estimators': 30}\n",
      "36.33476042049562 {'bootstrap': False, 'max_features': 2, 'n_estimators': 3}\n",
      "37.058088410853934 {'bootstrap': False, 'max_features': 2, 'n_estimators': 10}\n",
      "39.555797439959555 {'bootstrap': False, 'max_features': 3, 'n_estimators': 3}\n",
      "37.46158031904154 {'bootstrap': False, 'max_features': 3, 'n_estimators': 10}\n",
      "40.864738489948174 {'bootstrap': False, 'max_features': 4, 'n_estimators': 3}\n",
      "39.020843788929014 {'bootstrap': False, 'max_features': 4, 'n_estimators': 10}\n"
     ]
    }
   ],
   "source": [
    "cvres = grid_search.cv_results_\n",
    "for mean_score, params in zip(cvres[\"mean_test_score\"], cvres[\"params\"]):\n",
    "    print(np.sqrt(-mean_score), params)"
   ]
  },
  {
   "cell_type": "code",
   "execution_count": 61,
   "id": "97c73bbd-f4e7-4c73-8a1f-1e10cfc99db9",
   "metadata": {},
   "outputs": [
    {
     "name": "stdout",
     "output_type": "stream",
     "text": [
      "Predictions: [[226.03333333   1.8       ]\n",
      " [183.5          1.93333333]\n",
      " [144.16666667   1.93333333]\n",
      " [179.83333333   1.93333333]\n",
      " [179.53333333   1.83333333]]\n",
      "Labels:     blood sugar  type of diabetes\n",
      "22          260                 2\n",
      "5           178                 2\n",
      "33          128                 2\n",
      "56          163                 2\n",
      "66          171                 2\n"
     ]
    }
   ],
   "source": [
    "print(\"Predictions:\", grid_search.predict(some_data_prepared))\n",
    "print(\"Labels:\", some_labels)"
   ]
  },
  {
   "cell_type": "markdown",
   "id": "6f1f46e5-2ca3-4aa7-922f-0ae807f32f91",
   "metadata": {},
   "source": [
    "## Randomized Search"
   ]
  },
  {
   "cell_type": "code",
   "execution_count": 62,
   "id": "c410da0a-3291-4394-af65-4ed7a8f1ebba",
   "metadata": {},
   "outputs": [
    {
     "data": {
      "text/html": [
       "<style>#sk-container-id-6 {color: black;background-color: white;}#sk-container-id-6 pre{padding: 0;}#sk-container-id-6 div.sk-toggleable {background-color: white;}#sk-container-id-6 label.sk-toggleable__label {cursor: pointer;display: block;width: 100%;margin-bottom: 0;padding: 0.3em;box-sizing: border-box;text-align: center;}#sk-container-id-6 label.sk-toggleable__label-arrow:before {content: \"▸\";float: left;margin-right: 0.25em;color: #696969;}#sk-container-id-6 label.sk-toggleable__label-arrow:hover:before {color: black;}#sk-container-id-6 div.sk-estimator:hover label.sk-toggleable__label-arrow:before {color: black;}#sk-container-id-6 div.sk-toggleable__content {max-height: 0;max-width: 0;overflow: hidden;text-align: left;background-color: #f0f8ff;}#sk-container-id-6 div.sk-toggleable__content pre {margin: 0.2em;color: black;border-radius: 0.25em;background-color: #f0f8ff;}#sk-container-id-6 input.sk-toggleable__control:checked~div.sk-toggleable__content {max-height: 200px;max-width: 100%;overflow: auto;}#sk-container-id-6 input.sk-toggleable__control:checked~label.sk-toggleable__label-arrow:before {content: \"▾\";}#sk-container-id-6 div.sk-estimator input.sk-toggleable__control:checked~label.sk-toggleable__label {background-color: #d4ebff;}#sk-container-id-6 div.sk-label input.sk-toggleable__control:checked~label.sk-toggleable__label {background-color: #d4ebff;}#sk-container-id-6 input.sk-hidden--visually {border: 0;clip: rect(1px 1px 1px 1px);clip: rect(1px, 1px, 1px, 1px);height: 1px;margin: -1px;overflow: hidden;padding: 0;position: absolute;width: 1px;}#sk-container-id-6 div.sk-estimator {font-family: monospace;background-color: #f0f8ff;border: 1px dotted black;border-radius: 0.25em;box-sizing: border-box;margin-bottom: 0.5em;}#sk-container-id-6 div.sk-estimator:hover {background-color: #d4ebff;}#sk-container-id-6 div.sk-parallel-item::after {content: \"\";width: 100%;border-bottom: 1px solid gray;flex-grow: 1;}#sk-container-id-6 div.sk-label:hover label.sk-toggleable__label {background-color: #d4ebff;}#sk-container-id-6 div.sk-serial::before {content: \"\";position: absolute;border-left: 1px solid gray;box-sizing: border-box;top: 0;bottom: 0;left: 50%;z-index: 0;}#sk-container-id-6 div.sk-serial {display: flex;flex-direction: column;align-items: center;background-color: white;padding-right: 0.2em;padding-left: 0.2em;position: relative;}#sk-container-id-6 div.sk-item {position: relative;z-index: 1;}#sk-container-id-6 div.sk-parallel {display: flex;align-items: stretch;justify-content: center;background-color: white;position: relative;}#sk-container-id-6 div.sk-item::before, #sk-container-id-6 div.sk-parallel-item::before {content: \"\";position: absolute;border-left: 1px solid gray;box-sizing: border-box;top: 0;bottom: 0;left: 50%;z-index: -1;}#sk-container-id-6 div.sk-parallel-item {display: flex;flex-direction: column;z-index: 1;position: relative;background-color: white;}#sk-container-id-6 div.sk-parallel-item:first-child::after {align-self: flex-end;width: 50%;}#sk-container-id-6 div.sk-parallel-item:last-child::after {align-self: flex-start;width: 50%;}#sk-container-id-6 div.sk-parallel-item:only-child::after {width: 0;}#sk-container-id-6 div.sk-dashed-wrapped {border: 1px dashed gray;margin: 0 0.4em 0.5em 0.4em;box-sizing: border-box;padding-bottom: 0.4em;background-color: white;}#sk-container-id-6 div.sk-label label {font-family: monospace;font-weight: bold;display: inline-block;line-height: 1.2em;}#sk-container-id-6 div.sk-label-container {text-align: center;}#sk-container-id-6 div.sk-container {/* jupyter's `normalize.less` sets `[hidden] { display: none; }` but bootstrap.min.css set `[hidden] { display: none !important; }` so we also need the `!important` here to be able to override the default hidden behavior on the sphinx rendered scikit-learn.org. See: https://github.com/scikit-learn/scikit-learn/issues/21755 */display: inline-block !important;position: relative;}#sk-container-id-6 div.sk-text-repr-fallback {display: none;}</style><div id=\"sk-container-id-6\" class=\"sk-top-container\"><div class=\"sk-text-repr-fallback\"><pre>RandomizedSearchCV(cv=5, estimator=RandomForestRegressor(random_state=42),\n",
       "                   param_distributions={&#x27;max_features&#x27;: array([1, 7, 6, 5, 5, 4, 1, 5, 7, 4]),\n",
       "                                        &#x27;n_estimators&#x27;: array([ 22, 125,  42, 149, 196,   2, 119,  73,  86, 169])},\n",
       "                   random_state=42, scoring=&#x27;neg_mean_squared_error&#x27;)</pre><b>In a Jupyter environment, please rerun this cell to show the HTML representation or trust the notebook. <br />On GitHub, the HTML representation is unable to render, please try loading this page with nbviewer.org.</b></div><div class=\"sk-container\" hidden><div class=\"sk-item sk-dashed-wrapped\"><div class=\"sk-label-container\"><div class=\"sk-label sk-toggleable\"><input class=\"sk-toggleable__control sk-hidden--visually\" id=\"sk-estimator-id-8\" type=\"checkbox\" ><label for=\"sk-estimator-id-8\" class=\"sk-toggleable__label sk-toggleable__label-arrow\">RandomizedSearchCV</label><div class=\"sk-toggleable__content\"><pre>RandomizedSearchCV(cv=5, estimator=RandomForestRegressor(random_state=42),\n",
       "                   param_distributions={&#x27;max_features&#x27;: array([1, 7, 6, 5, 5, 4, 1, 5, 7, 4]),\n",
       "                                        &#x27;n_estimators&#x27;: array([ 22, 125,  42, 149, 196,   2, 119,  73,  86, 169])},\n",
       "                   random_state=42, scoring=&#x27;neg_mean_squared_error&#x27;)</pre></div></div></div><div class=\"sk-parallel\"><div class=\"sk-parallel-item\"><div class=\"sk-item\"><div class=\"sk-label-container\"><div class=\"sk-label sk-toggleable\"><input class=\"sk-toggleable__control sk-hidden--visually\" id=\"sk-estimator-id-9\" type=\"checkbox\" ><label for=\"sk-estimator-id-9\" class=\"sk-toggleable__label sk-toggleable__label-arrow\">estimator: RandomForestRegressor</label><div class=\"sk-toggleable__content\"><pre>RandomForestRegressor(random_state=42)</pre></div></div></div><div class=\"sk-serial\"><div class=\"sk-item\"><div class=\"sk-estimator sk-toggleable\"><input class=\"sk-toggleable__control sk-hidden--visually\" id=\"sk-estimator-id-10\" type=\"checkbox\" ><label for=\"sk-estimator-id-10\" class=\"sk-toggleable__label sk-toggleable__label-arrow\">RandomForestRegressor</label><div class=\"sk-toggleable__content\"><pre>RandomForestRegressor(random_state=42)</pre></div></div></div></div></div></div></div></div></div></div>"
      ],
      "text/plain": [
       "RandomizedSearchCV(cv=5, estimator=RandomForestRegressor(random_state=42),\n",
       "                   param_distributions={'max_features': array([1, 7, 6, 5, 5, 4, 1, 5, 7, 4]),\n",
       "                                        'n_estimators': array([ 22, 125,  42, 149, 196,   2, 119,  73,  86, 169])},\n",
       "                   random_state=42, scoring='neg_mean_squared_error')"
      ]
     },
     "execution_count": 62,
     "metadata": {},
     "output_type": "execute_result"
    }
   ],
   "source": [
    "# Define the parameter distributions for the random search\n",
    "# Randomly choose 10 values for the number of trees\n",
    "# Randomly choose 10 values for the number of features\n",
    "param_distribs = {\n",
    "        'n_estimators': np.random.randint(1, 200, 10),\n",
    "        'max_features': np.random.randint(1, 8, 10),\n",
    "    }\n",
    "\n",
    "forest_reg = RandomForestRegressor(random_state=42) # Create a random forest regression model\n",
    "# Create a randomized search object\n",
    "rnd_search = RandomizedSearchCV(forest_reg, param_distributions=param_distribs,\n",
    "                                n_iter=10, cv=5, scoring='neg_mean_squared_error', random_state=42) # Set the number of iterations, cross-validation folds, scoring metric, and random state\n",
    "rnd_search.fit(daiabet_prepared, daiabet_labels) # Fit the randomized search to the prepared data and labels"
   ]
  },
  {
   "cell_type": "code",
   "execution_count": 63,
   "id": "1b4346e9-a624-4971-bb8b-e4789d1f22d8",
   "metadata": {},
   "outputs": [
    {
     "name": "stdout",
     "output_type": "stream",
     "text": [
      "35.11310794039055 {'n_estimators': 149, 'max_features': 7}\n",
      "34.54141269045134 {'n_estimators': 149, 'max_features': 4}\n",
      "33.95763697337356 {'n_estimators': 22, 'max_features': 5}\n",
      "40.016038451267676 {'n_estimators': 2, 'max_features': 5}\n",
      "34.68968670916885 {'n_estimators': 196, 'max_features': 5}\n",
      "34.63812278945778 {'n_estimators': 169, 'max_features': 5}\n",
      "35.358541939611115 {'n_estimators': 42, 'max_features': 6}\n",
      "35.370963786714974 {'n_estimators': 22, 'max_features': 7}\n",
      "35.370963786714974 {'n_estimators': 22, 'max_features': 7}\n",
      "32.75403078048786 {'n_estimators': 22, 'max_features': 1}\n"
     ]
    }
   ],
   "source": [
    "cvres = rnd_search.cv_results_ # Get the cross-validation results\n",
    "for mean_score, params in zip(cvres[\"mean_test_score\"], cvres[\"params\"]): # For each score and parameter combination\n",
    "    print(np.sqrt(-mean_score), params) # Print the root mean squared error and the parameters"
   ]
  },
  {
   "cell_type": "code",
   "execution_count": 64,
   "id": "7d83bc43-c483-4ef0-8955-f88c91e425df",
   "metadata": {},
   "outputs": [
    {
     "data": {
      "text/plain": [
       "32.75403078048786"
      ]
     },
     "execution_count": 64,
     "metadata": {},
     "output_type": "execute_result"
    }
   ],
   "source": [
    "np.sqrt(-rnd_search.best_score_) # Print the best root mean squared error"
   ]
  },
  {
   "cell_type": "code",
   "execution_count": 65,
   "id": "ed9da9d9-a77c-402b-8236-01791c7fee66",
   "metadata": {},
   "outputs": [
    {
     "name": "stdout",
     "output_type": "stream",
     "text": [
      "Predictions: [[222.90909091   1.81818182]\n",
      " [182.90909091   1.95454545]\n",
      " [144.72727273   1.95454545]\n",
      " [185.59090909   1.90909091]\n",
      " [170.95454545   1.90909091]]\n",
      "Labels:     blood sugar  type of diabetes\n",
      "22          260                 2\n",
      "5           178                 2\n",
      "33          128                 2\n",
      "56          163                 2\n",
      "66          171                 2\n"
     ]
    }
   ],
   "source": [
    "print(\"Predictions:\", rnd_search.predict(some_data_prepared))\n",
    "print(\"Labels:\", some_labels)"
   ]
  },
  {
   "cell_type": "markdown",
   "id": "a2951f32-09a3-4808-a6c7-9980656d22df",
   "metadata": {},
   "source": [
    "# Analyze the Best Models and Their Errors"
   ]
  },
  {
   "cell_type": "code",
   "execution_count": 66,
   "id": "62659f4b-3901-4984-b9f5-f2a112311c48",
   "metadata": {},
   "outputs": [
    {
     "data": {
      "text/plain": [
       "array([0.23694832, 0.16977297, 0.24116584, 0.25915252, 0.0344973 ,\n",
       "       0.03138617, 0.02707688])"
      ]
     },
     "execution_count": 66,
     "metadata": {},
     "output_type": "execute_result"
    }
   ],
   "source": [
    "feature_importances = rnd_search.best_estimator_.feature_importances_ # Get the feature importances of the best model\n",
    "feature_importances # Print the feature importances"
   ]
  },
  {
   "cell_type": "code",
   "execution_count": 67,
   "id": "fcc75391-94a9-4f9d-bd9c-547d584e8921",
   "metadata": {},
   "outputs": [
    {
     "data": {
      "text/plain": [
       "[(0.2591525184779561, 'blood pressure'),\n",
       " (0.2411658425593092, 'weight'),\n",
       " (0.23694832323480555, 'age'),\n",
       " (0.1697729657653371, 'hight'),\n",
       " (0.034497296980440115, 'Family history'),\n",
       " (0.03138617247648433, 'female'),\n",
       " (0.027076880505667485, 'male')]"
      ]
     },
     "execution_count": 67,
     "metadata": {},
     "output_type": "execute_result"
    }
   ],
   "source": [
    "cat_encoder = full_pipeline.named_transformers_[\"cat\"]\n",
    "cat_one_hot_attribs = list(cat_encoder.categories_[0])\n",
    "attributes = num_attribs + cat_one_hot_attribs\n",
    "sorted(zip(feature_importances, attributes), reverse=True)"
   ]
  },
  {
   "cell_type": "markdown",
   "id": "2e79669e-c786-4b63-b2ca-78d76addaf81",
   "metadata": {},
   "source": [
    "# Evaluate Your System on the Test Set"
   ]
  },
  {
   "cell_type": "code",
   "execution_count": 68,
   "id": "38342260-07c3-4f2c-aa14-aacd82d2f9e3",
   "metadata": {},
   "outputs": [],
   "source": [
    "final_model = rnd_search.best_estimator_ # Get the final model from the randomized search\n",
    "\n",
    "X_test = test_set.drop([\"blood sugar\", \"type of diabetes\"], axis=1) # Drop the blood sugar and type of diabetes value column from the test set\n",
    "y_test = test_set[[\"blood sugar\", \"type of diabetes\"]].copy() # Copy the blood sugar and type of diabetes value column as the test labels\n",
    "\n",
    "X_test_prepared = full_pipeline.transform(X_test) # Transform the test set with the full pipeline\n",
    "final_predictions = final_model.predict(X_test_prepared) # Predict the test labels with the final model\n",
    "\n",
    "final_mse = mean_squared_error(y_test, final_predictions) # Compute the mean squared error of the final predictions\n",
    "final_rmse = np.sqrt(final_mse) # Compute the root mean squared error of the final predictions"
   ]
  },
  {
   "cell_type": "code",
   "execution_count": 69,
   "id": "d6c31055-ce8c-4378-b805-39c359b5c20a",
   "metadata": {},
   "outputs": [
    {
     "data": {
      "text/plain": [
       "35.47853888991323"
      ]
     },
     "execution_count": 69,
     "metadata": {},
     "output_type": "execute_result"
    }
   ],
   "source": [
    "final_rmse # Print the final root mean squared error"
   ]
  },
  {
   "cell_type": "code",
   "execution_count": 70,
   "id": "f5a9c3b3-2aec-4bef-9bec-4eea67be402e",
   "metadata": {},
   "outputs": [
    {
     "data": {
      "text/plain": [
       "array([[21.79984709,  0.35362117],\n",
       "       [67.52130161,  0.64987306]])"
      ]
     },
     "execution_count": 70,
     "metadata": {},
     "output_type": "execute_result"
    }
   ],
   "source": [
    "confidence = 0.95 # Define the confidence level for the interval estimate\n",
    "squared_errors = (final_predictions - y_test) ** 2 # Compute the squared errors of the final predictions\n",
    "# Compute the interval estimate of the root mean squared error\n",
    "# Use the mean of the squared errors as the location parameter\n",
    "np.sqrt(stats.t.interval(confidence, len(squared_errors) - 1,\n",
    "                         loc=squared_errors.mean(),\n",
    "                         scale=stats.sem(squared_errors))) # Use the standard error of the mean of the squared errors as the scale parameter"
   ]
  },
  {
   "cell_type": "markdown",
   "id": "3039fa2b-65e2-4d68-953e-cfb957640962",
   "metadata": {},
   "source": [
    "# Extra material"
   ]
  },
  {
   "cell_type": "markdown",
   "id": "cd379477-745a-46fc-8653-ee898191eefd",
   "metadata": {},
   "source": [
    "### A full pipeline with both preparation and prediction"
   ]
  },
  {
   "cell_type": "code",
   "execution_count": 71,
   "id": "407a68cb-53fa-49b7-964a-f470d0bf0e75",
   "metadata": {},
   "outputs": [
    {
     "data": {
      "text/plain": [
       "array([[222.90909091,   1.81818182],\n",
       "       [182.90909091,   1.95454545],\n",
       "       [144.72727273,   1.95454545],\n",
       "       [185.59090909,   1.90909091],\n",
       "       [170.95454545,   1.90909091]])"
      ]
     },
     "execution_count": 71,
     "metadata": {},
     "output_type": "execute_result"
    }
   ],
   "source": [
    "# Create a full pipeline that includes both the preparation and the prediction steps\n",
    "# Use the full pipeline defined earlier as the preparation step\n",
    "# Use the final model obtained from the randomized search as the prediction step\n",
    "full_pipeline_with_predictor = Pipeline([\n",
    "        (\"preparation\", full_pipeline),\n",
    "        (\"model\", final_model)\n",
    "    ])\n",
    "\n",
    "full_pipeline_with_predictor.fit(daiabet, daiabet_labels) # Fit the full pipeline to the data and labels\n",
    "full_pipeline_with_predictor.predict(some_data) # Print the predictions of the full pipeline on some data"
   ]
  },
  {
   "cell_type": "markdown",
   "id": "804342d7-26eb-42ac-b821-1737aebb5414",
   "metadata": {},
   "source": [
    "### Saving the model"
   ]
  },
  {
   "cell_type": "code",
   "execution_count": 72,
   "id": "ed668bf2-fe29-4dbd-b661-e3f36303ded4",
   "metadata": {},
   "outputs": [],
   "source": [
    "my_model = full_pipeline_with_predictor # Assign the full pipeline to a variable called my_model"
   ]
  },
  {
   "cell_type": "code",
   "execution_count": 73,
   "id": "63281d6a-d681-41a6-bc01-d95e25b4e560",
   "metadata": {},
   "outputs": [
    {
     "data": {
      "text/html": [
       "<style>#sk-container-id-7 {color: black;background-color: white;}#sk-container-id-7 pre{padding: 0;}#sk-container-id-7 div.sk-toggleable {background-color: white;}#sk-container-id-7 label.sk-toggleable__label {cursor: pointer;display: block;width: 100%;margin-bottom: 0;padding: 0.3em;box-sizing: border-box;text-align: center;}#sk-container-id-7 label.sk-toggleable__label-arrow:before {content: \"▸\";float: left;margin-right: 0.25em;color: #696969;}#sk-container-id-7 label.sk-toggleable__label-arrow:hover:before {color: black;}#sk-container-id-7 div.sk-estimator:hover label.sk-toggleable__label-arrow:before {color: black;}#sk-container-id-7 div.sk-toggleable__content {max-height: 0;max-width: 0;overflow: hidden;text-align: left;background-color: #f0f8ff;}#sk-container-id-7 div.sk-toggleable__content pre {margin: 0.2em;color: black;border-radius: 0.25em;background-color: #f0f8ff;}#sk-container-id-7 input.sk-toggleable__control:checked~div.sk-toggleable__content {max-height: 200px;max-width: 100%;overflow: auto;}#sk-container-id-7 input.sk-toggleable__control:checked~label.sk-toggleable__label-arrow:before {content: \"▾\";}#sk-container-id-7 div.sk-estimator input.sk-toggleable__control:checked~label.sk-toggleable__label {background-color: #d4ebff;}#sk-container-id-7 div.sk-label input.sk-toggleable__control:checked~label.sk-toggleable__label {background-color: #d4ebff;}#sk-container-id-7 input.sk-hidden--visually {border: 0;clip: rect(1px 1px 1px 1px);clip: rect(1px, 1px, 1px, 1px);height: 1px;margin: -1px;overflow: hidden;padding: 0;position: absolute;width: 1px;}#sk-container-id-7 div.sk-estimator {font-family: monospace;background-color: #f0f8ff;border: 1px dotted black;border-radius: 0.25em;box-sizing: border-box;margin-bottom: 0.5em;}#sk-container-id-7 div.sk-estimator:hover {background-color: #d4ebff;}#sk-container-id-7 div.sk-parallel-item::after {content: \"\";width: 100%;border-bottom: 1px solid gray;flex-grow: 1;}#sk-container-id-7 div.sk-label:hover label.sk-toggleable__label {background-color: #d4ebff;}#sk-container-id-7 div.sk-serial::before {content: \"\";position: absolute;border-left: 1px solid gray;box-sizing: border-box;top: 0;bottom: 0;left: 50%;z-index: 0;}#sk-container-id-7 div.sk-serial {display: flex;flex-direction: column;align-items: center;background-color: white;padding-right: 0.2em;padding-left: 0.2em;position: relative;}#sk-container-id-7 div.sk-item {position: relative;z-index: 1;}#sk-container-id-7 div.sk-parallel {display: flex;align-items: stretch;justify-content: center;background-color: white;position: relative;}#sk-container-id-7 div.sk-item::before, #sk-container-id-7 div.sk-parallel-item::before {content: \"\";position: absolute;border-left: 1px solid gray;box-sizing: border-box;top: 0;bottom: 0;left: 50%;z-index: -1;}#sk-container-id-7 div.sk-parallel-item {display: flex;flex-direction: column;z-index: 1;position: relative;background-color: white;}#sk-container-id-7 div.sk-parallel-item:first-child::after {align-self: flex-end;width: 50%;}#sk-container-id-7 div.sk-parallel-item:last-child::after {align-self: flex-start;width: 50%;}#sk-container-id-7 div.sk-parallel-item:only-child::after {width: 0;}#sk-container-id-7 div.sk-dashed-wrapped {border: 1px dashed gray;margin: 0 0.4em 0.5em 0.4em;box-sizing: border-box;padding-bottom: 0.4em;background-color: white;}#sk-container-id-7 div.sk-label label {font-family: monospace;font-weight: bold;display: inline-block;line-height: 1.2em;}#sk-container-id-7 div.sk-label-container {text-align: center;}#sk-container-id-7 div.sk-container {/* jupyter's `normalize.less` sets `[hidden] { display: none; }` but bootstrap.min.css set `[hidden] { display: none !important; }` so we also need the `!important` here to be able to override the default hidden behavior on the sphinx rendered scikit-learn.org. See: https://github.com/scikit-learn/scikit-learn/issues/21755 */display: inline-block !important;position: relative;}#sk-container-id-7 div.sk-text-repr-fallback {display: none;}</style><div id=\"sk-container-id-7\" class=\"sk-top-container\"><div class=\"sk-text-repr-fallback\"><pre>Pipeline(steps=[(&#x27;preparation&#x27;,\n",
       "                 ColumnTransformer(transformers=[(&#x27;num&#x27;,\n",
       "                                                  Pipeline(steps=[(&#x27;imputer&#x27;,\n",
       "                                                                   SimpleImputer(strategy=&#x27;median&#x27;)),\n",
       "                                                                  (&#x27;std_scaler&#x27;,\n",
       "                                                                   StandardScaler())]),\n",
       "                                                  [&#x27;age&#x27;, &#x27;hight&#x27;, &#x27;weight&#x27;,\n",
       "                                                   &#x27;blood pressure&#x27;,\n",
       "                                                   &#x27;Family history&#x27;]),\n",
       "                                                 (&#x27;cat&#x27;, OneHotEncoder(),\n",
       "                                                  [&#x27;Sex&#x27;])])),\n",
       "                (&#x27;model&#x27;,\n",
       "                 RandomForestRegressor(max_features=1, n_estimators=22,\n",
       "                                       random_state=42))])</pre><b>In a Jupyter environment, please rerun this cell to show the HTML representation or trust the notebook. <br />On GitHub, the HTML representation is unable to render, please try loading this page with nbviewer.org.</b></div><div class=\"sk-container\" hidden><div class=\"sk-item sk-dashed-wrapped\"><div class=\"sk-label-container\"><div class=\"sk-label sk-toggleable\"><input class=\"sk-toggleable__control sk-hidden--visually\" id=\"sk-estimator-id-11\" type=\"checkbox\" ><label for=\"sk-estimator-id-11\" class=\"sk-toggleable__label sk-toggleable__label-arrow\">Pipeline</label><div class=\"sk-toggleable__content\"><pre>Pipeline(steps=[(&#x27;preparation&#x27;,\n",
       "                 ColumnTransformer(transformers=[(&#x27;num&#x27;,\n",
       "                                                  Pipeline(steps=[(&#x27;imputer&#x27;,\n",
       "                                                                   SimpleImputer(strategy=&#x27;median&#x27;)),\n",
       "                                                                  (&#x27;std_scaler&#x27;,\n",
       "                                                                   StandardScaler())]),\n",
       "                                                  [&#x27;age&#x27;, &#x27;hight&#x27;, &#x27;weight&#x27;,\n",
       "                                                   &#x27;blood pressure&#x27;,\n",
       "                                                   &#x27;Family history&#x27;]),\n",
       "                                                 (&#x27;cat&#x27;, OneHotEncoder(),\n",
       "                                                  [&#x27;Sex&#x27;])])),\n",
       "                (&#x27;model&#x27;,\n",
       "                 RandomForestRegressor(max_features=1, n_estimators=22,\n",
       "                                       random_state=42))])</pre></div></div></div><div class=\"sk-serial\"><div class=\"sk-item sk-dashed-wrapped\"><div class=\"sk-label-container\"><div class=\"sk-label sk-toggleable\"><input class=\"sk-toggleable__control sk-hidden--visually\" id=\"sk-estimator-id-12\" type=\"checkbox\" ><label for=\"sk-estimator-id-12\" class=\"sk-toggleable__label sk-toggleable__label-arrow\">preparation: ColumnTransformer</label><div class=\"sk-toggleable__content\"><pre>ColumnTransformer(transformers=[(&#x27;num&#x27;,\n",
       "                                 Pipeline(steps=[(&#x27;imputer&#x27;,\n",
       "                                                  SimpleImputer(strategy=&#x27;median&#x27;)),\n",
       "                                                 (&#x27;std_scaler&#x27;,\n",
       "                                                  StandardScaler())]),\n",
       "                                 [&#x27;age&#x27;, &#x27;hight&#x27;, &#x27;weight&#x27;, &#x27;blood pressure&#x27;,\n",
       "                                  &#x27;Family history&#x27;]),\n",
       "                                (&#x27;cat&#x27;, OneHotEncoder(), [&#x27;Sex&#x27;])])</pre></div></div></div><div class=\"sk-parallel\"><div class=\"sk-parallel-item\"><div class=\"sk-item\"><div class=\"sk-label-container\"><div class=\"sk-label sk-toggleable\"><input class=\"sk-toggleable__control sk-hidden--visually\" id=\"sk-estimator-id-13\" type=\"checkbox\" ><label for=\"sk-estimator-id-13\" class=\"sk-toggleable__label sk-toggleable__label-arrow\">num</label><div class=\"sk-toggleable__content\"><pre>[&#x27;age&#x27;, &#x27;hight&#x27;, &#x27;weight&#x27;, &#x27;blood pressure&#x27;, &#x27;Family history&#x27;]</pre></div></div></div><div class=\"sk-serial\"><div class=\"sk-item\"><div class=\"sk-serial\"><div class=\"sk-item\"><div class=\"sk-estimator sk-toggleable\"><input class=\"sk-toggleable__control sk-hidden--visually\" id=\"sk-estimator-id-14\" type=\"checkbox\" ><label for=\"sk-estimator-id-14\" class=\"sk-toggleable__label sk-toggleable__label-arrow\">SimpleImputer</label><div class=\"sk-toggleable__content\"><pre>SimpleImputer(strategy=&#x27;median&#x27;)</pre></div></div></div><div class=\"sk-item\"><div class=\"sk-estimator sk-toggleable\"><input class=\"sk-toggleable__control sk-hidden--visually\" id=\"sk-estimator-id-15\" type=\"checkbox\" ><label for=\"sk-estimator-id-15\" class=\"sk-toggleable__label sk-toggleable__label-arrow\">StandardScaler</label><div class=\"sk-toggleable__content\"><pre>StandardScaler()</pre></div></div></div></div></div></div></div></div><div class=\"sk-parallel-item\"><div class=\"sk-item\"><div class=\"sk-label-container\"><div class=\"sk-label sk-toggleable\"><input class=\"sk-toggleable__control sk-hidden--visually\" id=\"sk-estimator-id-16\" type=\"checkbox\" ><label for=\"sk-estimator-id-16\" class=\"sk-toggleable__label sk-toggleable__label-arrow\">cat</label><div class=\"sk-toggleable__content\"><pre>[&#x27;Sex&#x27;]</pre></div></div></div><div class=\"sk-serial\"><div class=\"sk-item\"><div class=\"sk-estimator sk-toggleable\"><input class=\"sk-toggleable__control sk-hidden--visually\" id=\"sk-estimator-id-17\" type=\"checkbox\" ><label for=\"sk-estimator-id-17\" class=\"sk-toggleable__label sk-toggleable__label-arrow\">OneHotEncoder</label><div class=\"sk-toggleable__content\"><pre>OneHotEncoder()</pre></div></div></div></div></div></div></div></div><div class=\"sk-item\"><div class=\"sk-estimator sk-toggleable\"><input class=\"sk-toggleable__control sk-hidden--visually\" id=\"sk-estimator-id-18\" type=\"checkbox\" ><label for=\"sk-estimator-id-18\" class=\"sk-toggleable__label sk-toggleable__label-arrow\">RandomForestRegressor</label><div class=\"sk-toggleable__content\"><pre>RandomForestRegressor(max_features=1, n_estimators=22, random_state=42)</pre></div></div></div></div></div></div></div>"
      ],
      "text/plain": [
       "Pipeline(steps=[('preparation',\n",
       "                 ColumnTransformer(transformers=[('num',\n",
       "                                                  Pipeline(steps=[('imputer',\n",
       "                                                                   SimpleImputer(strategy='median')),\n",
       "                                                                  ('std_scaler',\n",
       "                                                                   StandardScaler())]),\n",
       "                                                  ['age', 'hight', 'weight',\n",
       "                                                   'blood pressure',\n",
       "                                                   'Family history']),\n",
       "                                                 ('cat', OneHotEncoder(),\n",
       "                                                  ['Sex'])])),\n",
       "                ('model',\n",
       "                 RandomForestRegressor(max_features=1, n_estimators=22,\n",
       "                                       random_state=42))])"
      ]
     },
     "execution_count": 73,
     "metadata": {},
     "output_type": "execute_result"
    }
   ],
   "source": [
    "my_model # Print the my_model"
   ]
  },
  {
   "cell_type": "code",
   "execution_count": 74,
   "id": "c0eca709-78f2-41de-884a-d854397b51ea",
   "metadata": {},
   "outputs": [
    {
     "name": "stdout",
     "output_type": "stream",
     "text": [
      "Predictions: [[222.90909091   1.81818182]\n",
      " [182.90909091   1.95454545]\n",
      " [144.72727273   1.95454545]\n",
      " [185.59090909   1.90909091]\n",
      " [170.95454545   1.90909091]]\n",
      "Labels:     blood sugar  type of diabetes\n",
      "22          260                 2\n",
      "5           178                 2\n",
      "33          128                 2\n",
      "56          163                 2\n",
      "66          171                 2\n"
     ]
    }
   ],
   "source": [
    "print(\"Predictions:\", my_model.predict(some_data))\n",
    "print(\"Labels:\", some_labels)"
   ]
  },
  {
   "cell_type": "code",
   "execution_count": 75,
   "id": "b09343f1-0250-4474-a87e-35199ebdbebc",
   "metadata": {},
   "outputs": [],
   "source": [
    "# Save the trained model to a .pkl file\n",
    "with open(\"my_model.pkl\", 'wb') as file: # Open a file in write binary mode\n",
    "    pickle.dump(my_model, file) # Dump the my_model variable to the file using pickle"
   ]
  },
  {
   "cell_type": "code",
   "execution_count": 76,
   "id": "27562bc7-b484-412a-9e2a-0c36e9f87de0",
   "metadata": {},
   "outputs": [],
   "source": [
    "# Load the model from the .pkl file\n",
    "with open(\"my_model.pkl\", 'rb') as file: # Open a file in read binary mode\n",
    "    my_model_loaded = pickle.load(file) # Load the my_model variable from the file using pickle"
   ]
  },
  {
   "cell_type": "code",
   "execution_count": 77,
   "id": "4b606b15-0de9-4fd9-b191-925ed66b0693",
   "metadata": {},
   "outputs": [
    {
     "data": {
      "text/plain": [
       "array([[222.90909091,   1.81818182],\n",
       "       [182.90909091,   1.95454545],\n",
       "       [144.72727273,   1.95454545],\n",
       "       [185.59090909,   1.90909091],\n",
       "       [170.95454545,   1.90909091]])"
      ]
     },
     "execution_count": 77,
     "metadata": {},
     "output_type": "execute_result"
    }
   ],
   "source": [
    "my_model_loaded.predict(some_data)  # Print the predictions of the loaded model on some data"
   ]
  },
  {
   "cell_type": "code",
   "execution_count": 78,
   "id": "bb2f0d83-feb3-4271-8110-979a38f81fe0",
   "metadata": {},
   "outputs": [
    {
     "data": {
      "text/html": [
       "<div>\n",
       "<style scoped>\n",
       "    .dataframe tbody tr th:only-of-type {\n",
       "        vertical-align: middle;\n",
       "    }\n",
       "\n",
       "    .dataframe tbody tr th {\n",
       "        vertical-align: top;\n",
       "    }\n",
       "\n",
       "    .dataframe thead th {\n",
       "        text-align: right;\n",
       "    }\n",
       "</style>\n",
       "<table border=\"1\" class=\"dataframe\">\n",
       "  <thead>\n",
       "    <tr style=\"text-align: right;\">\n",
       "      <th></th>\n",
       "      <th>blood sugar</th>\n",
       "      <th>type of diabetes</th>\n",
       "    </tr>\n",
       "  </thead>\n",
       "  <tbody>\n",
       "    <tr>\n",
       "      <th>22</th>\n",
       "      <td>260</td>\n",
       "      <td>2</td>\n",
       "    </tr>\n",
       "    <tr>\n",
       "      <th>5</th>\n",
       "      <td>178</td>\n",
       "      <td>2</td>\n",
       "    </tr>\n",
       "    <tr>\n",
       "      <th>33</th>\n",
       "      <td>128</td>\n",
       "      <td>2</td>\n",
       "    </tr>\n",
       "    <tr>\n",
       "      <th>56</th>\n",
       "      <td>163</td>\n",
       "      <td>2</td>\n",
       "    </tr>\n",
       "    <tr>\n",
       "      <th>66</th>\n",
       "      <td>171</td>\n",
       "      <td>2</td>\n",
       "    </tr>\n",
       "  </tbody>\n",
       "</table>\n",
       "</div>"
      ],
      "text/plain": [
       "    blood sugar  type of diabetes\n",
       "22          260                 2\n",
       "5           178                 2\n",
       "33          128                 2\n",
       "56          163                 2\n",
       "66          171                 2"
      ]
     },
     "execution_count": 78,
     "metadata": {},
     "output_type": "execute_result"
    }
   ],
   "source": [
    "some_labels.head()"
   ]
  },
  {
   "cell_type": "code",
   "execution_count": null,
   "id": "cbb2c9c7-af1e-49fc-bf86-bb9a7543409c",
   "metadata": {},
   "outputs": [],
   "source": []
  }
 ],
 "metadata": {
  "kernelspec": {
   "display_name": "Python 3 (ipykernel)",
   "language": "python",
   "name": "python3"
  },
  "language_info": {
   "codemirror_mode": {
    "name": "ipython",
    "version": 3
   },
   "file_extension": ".py",
   "mimetype": "text/x-python",
   "name": "python",
   "nbconvert_exporter": "python",
   "pygments_lexer": "ipython3",
   "version": "3.11.7"
  }
 },
 "nbformat": 4,
 "nbformat_minor": 5
}
